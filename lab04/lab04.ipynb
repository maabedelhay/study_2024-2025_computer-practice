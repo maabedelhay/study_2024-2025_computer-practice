{
 "cells": [
  {
   "cell_type": "markdown",
   "id": "ece3a67f-31ac-4bce-be11-fdad01614f1e",
   "metadata": {},
   "source": [
    "## РОССИЙСКИЙ УНИВЕРСИТЕТ ДРУЖ|БЫ НАРОДОВ\n",
    "<center>\n",
    "<div align=\"justify\" style=\"font-weight: bold;font-style: italic;text-decoration: underline\">\n",
    "<p>Факультет физико-математических и естественных наук</p>\n",
    "<p>Кафедра теории вероятностей и кибербезопасности</p>\n",
    "</div>\n",
    "</center>\n",
    "Лабораторная работа № 4 | Линейная алгебра \n",
    "\n",
    "<div style=\"text-align: right\"> \n",
    "\n",
    "\n",
    "    \n",
    "    Студент: Абд эль хай Мохамад\n",
    "    Номер: 1032215163\n",
    "    Група: НПИбд-01-21\n",
    "\n",
    "\n",
    "\n",
    "    Москва 2025\n",
    "</div>\n",
    "\n",
    "\n"
   ]
  },
  {
   "cell_type": "markdown",
   "id": "51d9979f-3967-4cbf-8799-b8e20e4a8cc1",
   "metadata": {},
   "source": [
    "<div style=\"font-family: 'Segoe UI', Tahoma, Geneva, Verdana, sans-serif; color: #000000; max-width: 600px; margin: 0 auto;\">\n",
    "    <h2 style=\"font-size: 20px; font-weight: 600; color: #000000; border-bottom: 2px solid #000000; padding-bottom: 5px; margin-bottom: 15px;\">\n",
    "        Оглавление\n",
    "    </h2>\n",
    "    <ul style=\"list-style-type: none; padding: 0; margin: 0;\">\n",
    "        <li style=\"margin-bottom: 8px;\">\n",
    "            <a href=\"#first-bullet\" style=\"text-decoration: none; color: #000000; font-size: 14px; line-height: 1.5;\">\n",
    "                1. Поэлементные операции над многомерными массивами\n",
    "            </a>\n",
    "        </li>\n",
    "        <li style=\"margin-bottom: 8px;\">\n",
    "            <a href=\"#second-bullet\" style=\"text-decoration: none; color: #000000; font-size: 14px; line-height: 1.5;\">\n",
    "                2. Транспонирование, след, ранг, определитель и инверсия матрицы\n",
    "            </a>\n",
    "        </li>\n",
    "        <li style=\"margin-bottom: 8px;\">\n",
    "            <a href=\"#third-bullet\" style=\"text-decoration: none; color: #000000; font-size: 14px; line-height: 1.5;\">\n",
    "                3. Вычисление нормы векторов и матриц, повороты, вращения\n",
    "            </a>\n",
    "        </li>\n",
    "        <li style=\"margin-bottom: 8px;\">\n",
    "            <a href=\"#forth-bullet\" style=\"text-decoration: none; color: #000000; font-size: 14px; line-height: 1.5;\">\n",
    "                4. Матричное умножение, единичная матрица, скалярное произведение\n",
    "            </a>\n",
    "        </li>\n",
    "        <li style=\"margin-bottom: 8px;\">\n",
    "            <a href=\"#fifth-bullet\" style=\"text-decoration: none; color: #000000; font-size: 14px; line-height: 1.5;\">\n",
    "                5. Факторизация. Специальные матричные структуры\n",
    "            </a>\n",
    "        </li>\n",
    "        <li style=\"margin-bottom: 8px;\">\n",
    "            <a href=\"#sixth-bullet\" style=\"text-decoration: none; color: #000000; font-size: 14px; line-height: 1.5;\">\n",
    "                6. Общая линейная алгебра\n",
    "            </a>\n",
    "        </li>\n",
    "        <li style=\"margin-bottom: 8px;\">\n",
    "            <a href=\"#seventh-bullet\" style=\"text-decoration: none; color: #000000; font-size: 14px; line-height: 1.5;\">\n",
    "                7. Задания для самостоятельного выполнения\n",
    "            </a>\n",
    "        </li>\n",
    "        <li style=\"margin-bottom: 8px;\">\n",
    "            <a href=\"#eighth-bullet\" style=\"text-decoration: none; color: #000000; font-size: 14px; line-height: 1.5;\">\n",
    "                8. Операции с матрицами\n",
    "            </a>\n",
    "        </li>\n",
    "        <li style=\"margin-bottom: 8px;\">\n",
    "            <a href=\"#ninth-bullet\" style=\"text-decoration: none; color: #000000; font-size: 14px; line-height: 1.5;\">\n",
    "                9. Линейные модели экономики\n",
    "            </a>\n",
    "        </li>\n",
    "    </ul>\n",
    "</div>"
   ]
  },
  {
   "cell_type": "markdown",
   "id": "03fe6c3d-52fd-4888-993f-c5e59f932042",
   "metadata": {},
   "source": [
    "### Цель работы\n",
    "Основной целью работы является изучение возможностей специализированных пакетов Julia для выполнения и оценки эффективности операций над объектами линейной алгебры."
   ]
  },
  {
   "cell_type": "markdown",
   "id": "e3b8a63c-587c-4d7a-b9ec-80716f5aae06",
   "metadata": {},
   "source": [
    "## Поэлементные операции над многомерными массивами\n",
    "<a class=\"anchor\" id=\"first-bullet\"></a>"
   ]
  },
  {
   "cell_type": "code",
   "execution_count": 99,
   "id": "bd2eb1e4-2e4b-41cf-b458-37fe2b10aab2",
   "metadata": {},
   "outputs": [
    {
     "data": {
      "text/plain": [
       "4×3 Matrix{Int64}:\n",
       " 8  4  7\n",
       " 1  3  5\n",
       " 8  8  1\n",
       " 8  6  1"
      ]
     },
     "execution_count": 99,
     "metadata": {},
     "output_type": "execute_result"
    }
   ],
   "source": [
    "a = rand(1:9,(4,3))"
   ]
  },
  {
   "cell_type": "code",
   "execution_count": 100,
   "id": "04705c76-4c13-4298-b67d-c3eb266499ea",
   "metadata": {},
   "outputs": [
    {
     "name": "stdout",
     "output_type": "stream",
     "text": [
      "Поэлементная сумма 60\n",
      "Поэлементная сумма по столбцам [25 21 14]\n",
      "Поэлементная сумма по строкам [19; 9; 17; 15;;]\n"
     ]
    }
   ],
   "source": [
    "println(\"Поэлементная сумма \", sum(a))\n",
    "println(\"Поэлементная сумма по столбцам \",sum(a, dims=1))\n",
    "println(\"Поэлементная сумма по строкам \",sum(a, dims=2))"
   ]
  },
  {
   "cell_type": "code",
   "execution_count": 101,
   "id": "a3600993-0079-4d38-9d2a-6a72420cf420",
   "metadata": {},
   "outputs": [
    {
     "name": "stdout",
     "output_type": "stream",
     "text": [
      "Поэлементное произведение 10321920\n",
      "Поэлементное произведение по столбцам [512 576 35]\n",
      "Поэлементное произведение по строкам [224; 15; 64; 48;;]\n"
     ]
    }
   ],
   "source": [
    "println(\"Поэлементное произведение \",prod(a))\n",
    "println(\"Поэлементное произведение по столбцам \",prod(a, dims=1))\n",
    "println(\"Поэлементное произведение по строкам \",prod(a, dims=2))"
   ]
  },
  {
   "cell_type": "code",
   "execution_count": 1,
   "id": "32ca5904-882c-4043-b305-44b2a7a78c09",
   "metadata": {},
   "outputs": [
    {
     "name": "stderr",
     "output_type": "stream",
     "text": [
      "\u001b[32m\u001b[1m   Resolving\u001b[22m\u001b[39m package versions...\n",
      "\u001b[32m\u001b[1m  No Changes\u001b[22m\u001b[39m to `~/.julia/environments/v1.11/Project.toml`\n",
      "\u001b[32m\u001b[1m  No Changes\u001b[22m\u001b[39m to `~/.julia/environments/v1.11/Manifest.toml`\n"
     ]
    }
   ],
   "source": [
    "# Подключение пакета Statistics:\n",
    "import Pkg\n",
    "Pkg.add(\"Statistics\")\n",
    "using Statistics"
   ]
  },
  {
   "cell_type": "code",
   "execution_count": 9,
   "id": "0f7a7247-75f6-4ba7-b419-a2a1736db823",
   "metadata": {},
   "outputs": [
    {
     "name": "stdout",
     "output_type": "stream",
     "text": [
      "Вычисление среднего значения массива 6.0\n",
      "Среднее по столбцам [5.0 7.75 5.25]\n",
      "Среднее по строкам [6.666666666666667; 5.666666666666667; 6.666666666666667; 5.0;;]\n"
     ]
    }
   ],
   "source": [
    "println(\"Вычисление среднего значения массива \", mean(a))\n",
    "println(\"Среднее по столбцам \", mean(a,dims=1))\n",
    "println(\"Среднее по строкам \", mean(a,dims=2))"
   ]
  },
  {
   "cell_type": "markdown",
   "id": "d24e6445-ac63-487f-8416-f6d47fe5d0db",
   "metadata": {},
   "source": [
    "## Транспонирование, след, ранг, определитель и инверсия матрицы\n",
    "<a class=\"anchor\" id=\"second-bullet\"></a>"
   ]
  },
  {
   "cell_type": "code",
   "execution_count": 11,
   "id": "569ba80c-9a41-4020-afde-c14834bfb1ab",
   "metadata": {},
   "outputs": [
    {
     "name": "stderr",
     "output_type": "stream",
     "text": [
      "\u001b[32m\u001b[1m   Resolving\u001b[22m\u001b[39m package versions...\n",
      "\u001b[32m\u001b[1m    Updating\u001b[22m\u001b[39m `~/.julia/environments/v1.11/Project.toml`\n",
      "  \u001b[90m[37e2e46d] \u001b[39m\u001b[92m+ LinearAlgebra v1.11.0\u001b[39m\n",
      "\u001b[32m\u001b[1m  No Changes\u001b[22m\u001b[39m to `~/.julia/environments/v1.11/Manifest.toml`\n"
     ]
    }
   ],
   "source": [
    "import Pkg \n",
    "Pkg.add(\"LinearAlgebra\")\n",
    "using LinearAlgebra"
   ]
  },
  {
   "cell_type": "code",
   "execution_count": 12,
   "id": "02c0f8c5-32d8-4286-a845-901317615715",
   "metadata": {},
   "outputs": [
    {
     "data": {
      "text/plain": [
       "4×4 Matrix{Int64}:\n",
       "  9  10   3   6\n",
       " 13   1  12  19\n",
       " 10   5   7  10\n",
       "  7   3   9  16"
      ]
     },
     "execution_count": 12,
     "metadata": {},
     "output_type": "execute_result"
    }
   ],
   "source": [
    "b = rand(1:20,(4,4))"
   ]
  },
  {
   "cell_type": "code",
   "execution_count": 13,
   "id": "f927ffae-17a8-47bd-bc64-42b3e743b653",
   "metadata": {},
   "outputs": [
    {
     "name": "stdout",
     "output_type": "stream",
     "text": [
      "Транспонированная матрица = [9 13 10 7; 10 1 5 3; 3 12 7 9; 6 19 10 16]\n",
      "След матрицы (сумма диагональных элементов) = 33\n",
      "Извлечение диагональных элементов как массив = [9, 1, 7, 16]\n"
     ]
    }
   ],
   "source": [
    "println(\"Транспонированная матрица = \", transpose(b))\n",
    "println(\"След матрицы (сумма диагональных элементов) = \", tr(b))\n",
    "println(\"Извлечение диагональных элементов как массив = \", diag(b))"
   ]
  },
  {
   "cell_type": "code",
   "execution_count": 14,
   "id": "219dd97a-6559-4e47-a36f-626596b1e90f",
   "metadata": {},
   "outputs": [
    {
     "name": "stdout",
     "output_type": "stream",
     "text": [
      "Ранг матрицы = 4\n"
     ]
    }
   ],
   "source": [
    "println(\"Ранг матрицы = \", rank(b))"
   ]
  },
  {
   "cell_type": "code",
   "execution_count": 15,
   "id": "f9c49b00-c815-4aa7-8bc4-d4364131d621",
   "metadata": {},
   "outputs": [
    {
     "name": "stdout",
     "output_type": "stream",
     "text": [
      "Инверсия матрицы = \n"
     ]
    },
    {
     "data": {
      "text/plain": [
       "4×4 Matrix{Float64}:\n",
       "  0.148962   0.261294  -0.208791  -0.235653\n",
       " -0.018315  -0.212454   0.197802   0.135531\n",
       " -0.567766  -0.586081   1.13187    0.201465\n",
       "  0.257631   0.255189  -0.582418   0.026862"
      ]
     },
     "execution_count": 15,
     "metadata": {},
     "output_type": "execute_result"
    }
   ],
   "source": [
    "println(\"Инверсия матрицы = \")\n",
    "inv(b)"
   ]
  },
  {
   "cell_type": "code",
   "execution_count": 16,
   "id": "0799ce14-0180-4c18-8e0f-65ce5093de38",
   "metadata": {},
   "outputs": [
    {
     "name": "stdout",
     "output_type": "stream",
     "text": [
      "Определитель матрицы = -818.9999999999985\n"
     ]
    }
   ],
   "source": [
    "println(\"Определитель матрицы = \", det(b))"
   ]
  },
  {
   "cell_type": "code",
   "execution_count": 17,
   "id": "cf6cf30a-8121-48e7-afc0-a01dbc449d14",
   "metadata": {},
   "outputs": [
    {
     "name": "stdout",
     "output_type": "stream",
     "text": [
      "Псевдобратная функция для прямоугольных матриц = \n"
     ]
    },
    {
     "data": {
      "text/plain": [
       "3×4 Matrix{Float64}:\n",
       "  0.255319   -0.0795073   0.161254  -0.398656\n",
       " -0.0673759   0.135747   -0.215068   0.289411\n",
       " -0.0957447  -0.0776409   0.211459   0.000373274"
      ]
     },
     "execution_count": 17,
     "metadata": {},
     "output_type": "execute_result"
    }
   ],
   "source": [
    "println(\"Псевдобратная функция для прямоугольных матриц = \")\n",
    "pinv(a)"
   ]
  },
  {
   "cell_type": "markdown",
   "id": "f64c90be-55b1-41d7-8837-fffd4a3131be",
   "metadata": {},
   "source": [
    "## Вычисление нормы векторов и матриц, повороты, вращения\n",
    "<a class=\"anchor\" id=\"third-bullet\"></a>"
   ]
  },
  {
   "cell_type": "code",
   "execution_count": 21,
   "id": "2addad52-b5c3-4c7d-9220-d42d208fe631",
   "metadata": {},
   "outputs": [
    {
     "data": {
      "text/plain": [
       "3-element Vector{Int64}:\n",
       "  2\n",
       "  4\n",
       " -5"
      ]
     },
     "execution_count": 21,
     "metadata": {},
     "output_type": "execute_result"
    }
   ],
   "source": [
    "# Создание вектора X\n",
    "X = [2,4,-5]"
   ]
  },
  {
   "cell_type": "code",
   "execution_count": 22,
   "id": "b7a80f52-6491-4eed-a226-2323766e756f",
   "metadata": {},
   "outputs": [
    {
     "name": "stdout",
     "output_type": "stream",
     "text": [
      "Евклидова норма вектора X = 6.708203932499369\n"
     ]
    }
   ],
   "source": [
    "println(\"Евклидова норма вектора X = \", norm(X))"
   ]
  },
  {
   "cell_type": "code",
   "execution_count": 23,
   "id": "68930631-5c4f-4e77-a0b3-0b6b86fa06ce",
   "metadata": {},
   "outputs": [
    {
     "name": "stdout",
     "output_type": "stream",
     "text": [
      "p-норма вектора X = 11.0\n"
     ]
    }
   ],
   "source": [
    "p = 1\n",
    "println(\"p-норма вектора X = \", norm(X, p))"
   ]
  },
  {
   "cell_type": "code",
   "execution_count": 24,
   "id": "7ab1023b-0bd5-4784-9585-396b16501d5d",
   "metadata": {},
   "outputs": [
    {
     "name": "stdout",
     "output_type": "stream",
     "text": [
      "Расстояние между векторами X и Y = 9.486832980505138\n",
      "Расстояние по базовому определению(проверка) = 9.486832980505138\n"
     ]
    }
   ],
   "source": [
    "X = [2, 4, -5];\n",
    "Y = [1,-1,3];\n",
    "println(\"Расстояние между векторами X и Y = \", norm(X-Y))\n",
    "println(\"Расстояние по базовому определению(проверка) = \", sqrt(sum((X-Y).^2)))"
   ]
  },
  {
   "cell_type": "markdown",
   "id": "62e09c96-9a8e-4c32-8de9-6d528e91d536",
   "metadata": {},
   "source": [
    "## Матричное умножение, единичная матрица, скалярное произведение\n",
    "<a class=\"anchor\" id=\"fourth-bullet\"></a>"
   ]
  },
  {
   "cell_type": "code",
   "execution_count": 28,
   "id": "be174596-1c3c-4060-b12f-d24755feb43e",
   "metadata": {},
   "outputs": [
    {
     "data": {
      "text/plain": [
       "2×4 Matrix{Int64}:\n",
       " 61  17  43   81\n",
       " 93  58  32  127"
      ]
     },
     "execution_count": 28,
     "metadata": {},
     "output_type": "execute_result"
    }
   ],
   "source": [
    "# Матрица 2x3 со случайными целыми значениями от 1 до 10\n",
    "A = rand(1:10,(2,3))\n",
    "# Матрица 3x4 со случайными целыми значениями от 1 до 10\n",
    "B = rand(1:10,(3,4))\n",
    "\n",
    "A*B"
   ]
  },
  {
   "cell_type": "code",
   "execution_count": 32,
   "id": "ae3ca61e-7627-4226-abbd-8a75d61c77ac",
   "metadata": {},
   "outputs": [
    {
     "data": {
      "text/plain": [
       "3×3 Matrix{Int64}:\n",
       " 1  0  0\n",
       " 0  1  0\n",
       " 0  0  1"
      ]
     },
     "execution_count": 32,
     "metadata": {},
     "output_type": "execute_result"
    }
   ],
   "source": [
    "# Единичная матрица 3x3\n",
    "Matrix{Int}(I,3,3)"
   ]
  },
  {
   "cell_type": "code",
   "execution_count": 33,
   "id": "061911ee-2930-44d1-83ed-fbf7eb9188b2",
   "metadata": {},
   "outputs": [
    {
     "data": {
      "text/plain": [
       "-17"
      ]
     },
     "execution_count": 33,
     "metadata": {},
     "output_type": "execute_result"
    }
   ],
   "source": [
    "# Скалярное произведение векторов X и Y:\n",
    "X = [2, 4, -5]\n",
    "Y = [1,-1,3]\n",
    "dot(X,Y)"
   ]
  },
  {
   "cell_type": "markdown",
   "id": "d83f3c03-20cb-4aab-bdf3-8f49e3978fa5",
   "metadata": {},
   "source": [
    "## Факторизация. Специальные матричные структуры\n",
    "<a class=\"anchor\" id=\"fifth-bullet\"></a>"
   ]
  },
  {
   "cell_type": "code",
   "execution_count": 34,
   "id": "19af7fa6-3e20-4bec-afaa-b0ca0e3b985d",
   "metadata": {},
   "outputs": [
    {
     "data": {
      "text/plain": [
       "3-element Vector{Float64}:\n",
       " 1.0000000000000024\n",
       " 0.9999999999999974\n",
       " 0.9999999999999994"
      ]
     },
     "execution_count": 34,
     "metadata": {},
     "output_type": "execute_result"
    }
   ],
   "source": [
    "# Задаём квадратную матрицу 3x3 со случайными значениями:\n",
    "A = rand(3, 3)\n",
    "# Задаём единичный вектор:\n",
    "x = fill(1.0, 3)\n",
    "# Задаём вектор b:\n",
    "b = A*x\n",
    "# Решение исходного уравнения получаем с помощью функции \\\n",
    "# (убеждаемся, что x - единичный вектор):\n",
    "A\\b"
   ]
  },
  {
   "cell_type": "code",
   "execution_count": 35,
   "id": "708a95aa-7c80-4e09-9135-53338c6a8360",
   "metadata": {},
   "outputs": [
    {
     "data": {
      "text/plain": [
       "LU{Float64, Matrix{Float64}, Vector{Int64}}\n",
       "L factor:\n",
       "3×3 Matrix{Float64}:\n",
       " 1.0       0.0       0.0\n",
       " 0.983686  1.0       0.0\n",
       " 0.6667    0.323383  1.0\n",
       "U factor:\n",
       "3×3 Matrix{Float64}:\n",
       " 0.614859  0.369507   0.822136\n",
       " 0.0       0.110925  -0.271536\n",
       " 0.0       0.0       -0.100201"
      ]
     },
     "execution_count": 35,
     "metadata": {},
     "output_type": "execute_result"
    }
   ],
   "source": [
    "# LU-факторизация:\n",
    "Alu = lu(A)"
   ]
  },
  {
   "cell_type": "code",
   "execution_count": 36,
   "id": "fe291a5e-6011-4981-9f9d-28791fa6bd30",
   "metadata": {},
   "outputs": [
    {
     "name": "stdout",
     "output_type": "stream",
     "text": [
      "Матрица перестановок = [1.0 0.0 0.0; 0.0 0.0 1.0; 0.0 1.0 0.0]\n",
      "Вектор перестановок = [1, 3, 2]\n"
     ]
    }
   ],
   "source": [
    "println(\"Матрица перестановок = \", Alu.P)\n",
    "println(\"Вектор перестановок = \", Alu.p)"
   ]
  },
  {
   "cell_type": "markdown",
   "id": "49e9567a-1850-4c4f-aac6-684d85c62aff",
   "metadata": {},
   "source": [
    "## Общая линейная алгебра\n",
    "<a class=\"anchor\" id=\"sixth-bullet\"></a>"
   ]
  },
  {
   "cell_type": "markdown",
   "id": "570f9562-07a9-4407-8854-b5e9c5f4b942",
   "metadata": {},
   "source": [
    "Arational = Matrix{Rational{BigInt}}(rand(1:10,3,3))/10"
   ]
  },
  {
   "cell_type": "code",
   "execution_count": 39,
   "id": "116d3dc0-4d2e-47f0-9283-6d9b603567b9",
   "metadata": {},
   "outputs": [
    {
     "data": {
      "text/plain": [
       "3-element Vector{Rational{BigInt}}:\n",
       " 21//10\n",
       " 13//10\n",
       "  7//10"
      ]
     },
     "execution_count": 39,
     "metadata": {},
     "output_type": "execute_result"
    }
   ],
   "source": [
    "# Единичный вектор:\n",
    "x = fill(1, 3)\n",
    "# Задаём вектор b\n",
    "b = Arational*x"
   ]
  },
  {
   "cell_type": "code",
   "execution_count": 40,
   "id": "4e2d972a-d841-4392-8a1e-2e43fb47c75d",
   "metadata": {},
   "outputs": [
    {
     "data": {
      "text/plain": [
       "3-element Vector{Rational{BigInt}}:\n",
       " 1\n",
       " 1\n",
       " 1"
      ]
     },
     "execution_count": 40,
     "metadata": {},
     "output_type": "execute_result"
    }
   ],
   "source": [
    "# Решение исходного уравнения получаем с помощью функции \\\n",
    "# (убеждаемся, что x - единичный вектор):\n",
    "Arational\\b"
   ]
  },
  {
   "cell_type": "code",
   "execution_count": 41,
   "id": "831c1965-3e2e-4382-b05d-2a805fba1c41",
   "metadata": {},
   "outputs": [
    {
     "data": {
      "text/plain": [
       "LU{Rational{BigInt}, Matrix{Rational{BigInt}}, Vector{Int64}}\n",
       "L factor:\n",
       "3×3 Matrix{Rational{BigInt}}:\n",
       "  1    0  0\n",
       " 1//6  1  0\n",
       " 1//2  0  1\n",
       "U factor:\n",
       "3×3 Matrix{Rational{BigInt}}:\n",
       " 3//5   4//5    7//10\n",
       "  0    -1//30  23//60\n",
       "  0      0      1//4"
      ]
     },
     "execution_count": 41,
     "metadata": {},
     "output_type": "execute_result"
    }
   ],
   "source": [
    "# LU-разложение:\n",
    "lu(Arational)"
   ]
  },
  {
   "cell_type": "markdown",
   "id": "3fbf708b-9dad-467a-9693-34657aaa8522",
   "metadata": {},
   "source": [
    "## Задания для самостоятельного выполнения\n",
    "<a class=\"anchor\" id=\"seventh-bullet\"></a>"
   ]
  },
  {
   "cell_type": "markdown",
   "id": "dab9a7b5-2430-4fb8-a7d0-79056efe1a82",
   "metadata": {},
   "source": [
    "***Произведение векторов***\n",
    "> 1. Задайте вектор v. Умножьте вектор v скалярно сам на себя и сохраните результат в dot_v.\n",
    "> 2. Умножьте v матрично на себя (внешнее произведение), присвоив результат переменной outer_v."
   ]
  },
  {
   "cell_type": "code",
   "execution_count": 44,
   "id": "0ad5a653-c9b7-45c3-b401-1cb1852b4545",
   "metadata": {},
   "outputs": [
    {
     "data": {
      "text/plain": [
       "230"
      ]
     },
     "execution_count": 44,
     "metadata": {},
     "output_type": "execute_result"
    }
   ],
   "source": [
    "V = [3,6,8,-11]\n",
    "dotV = dot(V,V)"
   ]
  },
  {
   "cell_type": "code",
   "execution_count": 45,
   "id": "1e0382ef-854b-4d90-8d01-42b8d018ab85",
   "metadata": {},
   "outputs": [
    {
     "data": {
      "text/plain": [
       "4×4 Matrix{Int64}:\n",
       "   9   18   24  -33\n",
       "  18   36   48  -66\n",
       "  24   48   64  -88\n",
       " -33  -66  -88  121"
      ]
     },
     "execution_count": 45,
     "metadata": {},
     "output_type": "execute_result"
    }
   ],
   "source": [
    "outerV = V * V'"
   ]
  },
  {
   "cell_type": "markdown",
   "id": "6d626078-5886-480a-94c1-fbf44bf6207a",
   "metadata": {},
   "source": [
    "\n",
    "***Системы линейных уравнений***"
   ]
  },
  {
   "cell_type": "code",
   "execution_count": 65,
   "id": "04495c0c-c7a8-468f-b5f5-ae08a06cf4ca",
   "metadata": {},
   "outputs": [
    {
     "data": {
      "text/plain": [
       "2-element Vector{Float64}:\n",
       "  2.5\n",
       " -0.5"
      ]
     },
     "execution_count": 65,
     "metadata": {},
     "output_type": "execute_result"
    }
   ],
   "source": [
    "# first task\n",
    "A_1 = [1 1; 1 -1]\n",
    "b_1 = [2; 3]\n",
    "# Решение уравнения получаем с помощью функции \\\n",
    "try \n",
    "    A_1\\b_1\n",
    "catch e\n",
    "    println(\"матрица A является вырожденной\")\n",
    "end"
   ]
  },
  {
   "cell_type": "code",
   "execution_count": 66,
   "id": "c82e7408-19ba-49ef-b78e-001a9057a64d",
   "metadata": {},
   "outputs": [
    {
     "name": "stdout",
     "output_type": "stream",
     "text": [
      "матрица A является вырожденной\n"
     ]
    }
   ],
   "source": [
    "# second task\n",
    "A_2 = [1 1; 2 2]\n",
    "b_2 = [2; 4]\n",
    "try \n",
    "    A_2\\b_2\n",
    "catch e\n",
    "    println(\"матрица A является вырожденной\")\n",
    "end"
   ]
  },
  {
   "cell_type": "code",
   "execution_count": 67,
   "id": "adbf7d3f-6258-4604-9951-a0bee4505b49",
   "metadata": {},
   "outputs": [
    {
     "name": "stdout",
     "output_type": "stream",
     "text": [
      "матрица A является вырожденной\n"
     ]
    }
   ],
   "source": [
    "# third task\n",
    "A_3 = [1 1; 2 2]\n",
    "b_3 = [2; 5]\n",
    "try \n",
    "    A_3\\b_3\n",
    "catch e\n",
    "    println(\"матрица A является вырожденной\")\n",
    "end"
   ]
  },
  {
   "cell_type": "code",
   "execution_count": 68,
   "id": "0860aacd-c6ff-48a7-8036-968067c5418f",
   "metadata": {},
   "outputs": [
    {
     "data": {
      "text/plain": [
       "2-element Vector{Float64}:\n",
       " 0.4999999999999999\n",
       " 0.5"
      ]
     },
     "execution_count": 68,
     "metadata": {},
     "output_type": "execute_result"
    }
   ],
   "source": [
    "# fourth task\n",
    "A_4 = [1 1; 2 2; 3 3]\n",
    "b_4 = [1; 2; 3]\n",
    "A_4\\b_4"
   ]
  },
  {
   "cell_type": "code",
   "execution_count": 69,
   "id": "6598c126-2a2f-4228-8097-b5f5fb7679ee",
   "metadata": {},
   "outputs": [
    {
     "data": {
      "text/plain": [
       "2-element Vector{Float64}:\n",
       "  1.5000000000000004\n",
       " -0.9999999999999997"
      ]
     },
     "execution_count": 69,
     "metadata": {},
     "output_type": "execute_result"
    }
   ],
   "source": [
    "# fifth task\n",
    "A_5 = [1 1; 2 1; 1 -1]\n",
    "b_5 = [2; 1; 3]\n",
    "A_5\\b_5"
   ]
  },
  {
   "cell_type": "code",
   "execution_count": 72,
   "id": "7c446820-bc91-4120-97d6-218b927009ac",
   "metadata": {},
   "outputs": [
    {
     "name": "stdout",
     "output_type": "stream",
     "text": [
      "матрица A является вырожденной\n"
     ]
    }
   ],
   "source": [
    "# ninth task\n",
    "A_9 = [1 1 1; 1 1 2; 2 2 3]\n",
    "b_9 = [1; 0; 1]\n",
    "try \n",
    "    A_9\\b_9\n",
    "catch e\n",
    "    println(\"матрица A является вырожденной\")\n",
    "end"
   ]
  },
  {
   "cell_type": "markdown",
   "id": "62d17295-522e-49bd-ab95-d89b31d21d25",
   "metadata": {},
   "source": [
    "## Операции с матрицами\n",
    "<a class=\"anchor\" id=\"eighth-bullet\"></a>"
   ]
  },
  {
   "cell_type": "code",
   "execution_count": 73,
   "id": "ed71cb0c-3c9d-4aa9-8c0a-7c7e43eaae9d",
   "metadata": {},
   "outputs": [
    {
     "data": {
      "text/plain": [
       "diagonal_matrices (generic function with 1 method)"
      ]
     },
     "execution_count": 73,
     "metadata": {},
     "output_type": "execute_result"
    }
   ],
   "source": [
    "function diagonal_matrices(matrix)\n",
    "    # Проведем симметризацию матриц\n",
    "    Asym = matrix + matrix'\n",
    "    # Спектральное разложение симметризированной матрицы\n",
    "    AsymEig = eigen(Asym)\n",
    "    # в итоге приводим матрицу к диагональному виду\n",
    "    return inv(AsymEig.vectors) * matrix * AsymEig.vectors\n",
    "end"
   ]
  },
  {
   "cell_type": "code",
   "execution_count": 74,
   "id": "1ab03ba5-0345-414d-b006-7bbc9eac462e",
   "metadata": {},
   "outputs": [
    {
     "data": {
      "text/plain": [
       "2×2 Matrix{Float64}:\n",
       " -1.0  0.0\n",
       "  0.0  3.0"
      ]
     },
     "execution_count": 74,
     "metadata": {},
     "output_type": "execute_result"
    }
   ],
   "source": [
    "matrix_1 = [1 -2; -2 1]\n",
    "diagonal_matrices(matrix_1)"
   ]
  },
  {
   "cell_type": "code",
   "execution_count": 75,
   "id": "a8242e2b-4783-4aed-97ab-54e9643a00dd",
   "metadata": {},
   "outputs": [
    {
     "data": {
      "text/plain": [
       "2×2 Matrix{Float64}:\n",
       " -0.236068     4.44089e-16\n",
       "  2.22045e-16  4.23607"
      ]
     },
     "execution_count": 75,
     "metadata": {},
     "output_type": "execute_result"
    }
   ],
   "source": [
    "matrix_2 = [1 -2; -2 3]\n",
    "diagonal_matrices(matrix_2)"
   ]
  },
  {
   "cell_type": "code",
   "execution_count": 76,
   "id": "6159982d-669c-42f4-9a5d-f6149ada72dc",
   "metadata": {},
   "outputs": [
    {
     "data": {
      "text/plain": [
       "3×3 Matrix{Float64}:\n",
       " -2.14134       3.55271e-15  -1.9984e-15\n",
       "  3.38618e-15   0.515138      1.11022e-16\n",
       " -6.66134e-16  -4.44089e-16   3.6262"
      ]
     },
     "execution_count": 76,
     "metadata": {},
     "output_type": "execute_result"
    }
   ],
   "source": [
    "matrix_3 = [1 -2 0; -2 1 2; 0 2 0]\n",
    "diagonal_matrices(matrix_3)"
   ]
  },
  {
   "cell_type": "markdown",
   "id": "0126037b-4b9d-4d0a-92e9-2999f9d48753",
   "metadata": {},
   "source": [
    "#### Вычислим матрицы"
   ]
  },
  {
   "cell_type": "code",
   "execution_count": 77,
   "id": "64f2ee33-54db-43c4-b4f1-5b6b76f3778b",
   "metadata": {},
   "outputs": [
    {
     "data": {
      "text/plain": [
       "2×2 Matrix{Int64}:\n",
       "  29525  -29524\n",
       " -29524   29525"
      ]
     },
     "execution_count": 77,
     "metadata": {},
     "output_type": "execute_result"
    }
   ],
   "source": [
    "([1 -2; -2 1])^10"
   ]
  },
  {
   "cell_type": "code",
   "execution_count": 79,
   "id": "871e2b8f-531e-49ff-b792-b0e67f503ae8",
   "metadata": {},
   "outputs": [
    {
     "data": {
      "text/plain": [
       "2×2 Matrix{Float64}:\n",
       "  2.1889   -0.45685\n",
       " -0.45685   2.1889"
      ]
     },
     "execution_count": 79,
     "metadata": {},
     "output_type": "execute_result"
    }
   ],
   "source": [
    "sqrt([5 -2; -2 5])"
   ]
  },
  {
   "cell_type": "code",
   "execution_count": 80,
   "id": "e1d36d22-17d1-4523-89a7-1a2982f0d3d6",
   "metadata": {},
   "outputs": [
    {
     "data": {
      "text/plain": [
       "2×2 Symmetric{ComplexF64, Matrix{ComplexF64}}:\n",
       "  0.971125+0.433013im  -0.471125+0.433013im\n",
       " -0.471125+0.433013im   0.971125+0.433013im"
      ]
     },
     "execution_count": 80,
     "metadata": {},
     "output_type": "execute_result"
    }
   ],
   "source": [
    "([1 -2; -2 1])^(1/3)"
   ]
  },
  {
   "cell_type": "code",
   "execution_count": 81,
   "id": "d3d5e8f1-c275-42f2-8a24-4a7fcabd2811",
   "metadata": {},
   "outputs": [
    {
     "data": {
      "text/plain": [
       "2×2 Matrix{ComplexF64}:\n",
       " 0.568864+0.351578im  0.920442-0.217287im\n",
       " 0.920442-0.217287im   1.48931+0.134291im"
      ]
     },
     "execution_count": 81,
     "metadata": {},
     "output_type": "execute_result"
    }
   ],
   "source": [
    "sqrt([1 2; 2 3])"
   ]
  },
  {
   "cell_type": "markdown",
   "id": "a00f9542-5757-4bd3-9137-02135eaf8773",
   "metadata": {},
   "source": [
    "## Линейные модели экономики\n",
    "<a class=\"anchor\" id=\"ninth-bullet\"></a>"
   ]
  },
  {
   "cell_type": "code",
   "execution_count": 86,
   "id": "fdfb3202-24cb-4218-a40b-2c3e50946da4",
   "metadata": {},
   "outputs": [
    {
     "data": {
      "text/plain": [
       "productive_matrix (generic function with 1 method)"
      ]
     },
     "execution_count": 86,
     "metadata": {},
     "output_type": "execute_result"
    }
   ],
   "source": [
    "function productive_matrix(matrix, size)\n",
    "    ans=\"\"\n",
    "    # единичная матрица\n",
    "    E = [1 0; 0 1]\n",
    "    # зададим любые неотрицательные числа\n",
    "    Y = rand(0:1000, size)\n",
    "    # По формуле вычислим x - A*x = y\n",
    "    S = E - matrix\n",
    "    # найдем значения x\n",
    "    X = S\\Y\n",
    "    # теперь проверим есть ли среди x отрциательное число\n",
    "    for i in 1:1:size\n",
    "        if X[i] < 0\n",
    "            ans = \"Матрица непродуктивная\"\n",
    "            break\n",
    "        else\n",
    "            ans = \"Матрица продуктивная\"\n",
    "        end\n",
    "    end\n",
    "    return ans\n",
    "end"
   ]
  },
  {
   "cell_type": "code",
   "execution_count": 87,
   "id": "e866fbea-c4c7-4d8f-a205-266dbaf01ca3",
   "metadata": {},
   "outputs": [
    {
     "data": {
      "text/plain": [
       "\"Матрица непродуктивная\""
      ]
     },
     "execution_count": 87,
     "metadata": {},
     "output_type": "execute_result"
    }
   ],
   "source": [
    "matrix_2 = ([1 2; 3 4])*(1/2)\n",
    "productive_matrix(matrix_2, 2)"
   ]
  },
  {
   "cell_type": "code",
   "execution_count": 88,
   "id": "48338a63-8093-492b-b9e2-2898b192a59a",
   "metadata": {},
   "outputs": [
    {
     "data": {
      "text/plain": [
       "\"Матрица продуктивная\""
      ]
     },
     "execution_count": 88,
     "metadata": {},
     "output_type": "execute_result"
    }
   ],
   "source": [
    "matrix_3 = ([1 2; 3 4])*(1/10)\n",
    "productive_matrix(matrix_3, 2)"
   ]
  },
  {
   "cell_type": "code",
   "execution_count": 89,
   "id": "73c73855-5603-47eb-bba6-0bbefd84fda5",
   "metadata": {},
   "outputs": [
    {
     "data": {
      "text/plain": [
       "productive_matrix_2 (generic function with 1 method)"
      ]
     },
     "execution_count": 89,
     "metadata": {},
     "output_type": "execute_result"
    }
   ],
   "source": [
    "function productive_matrix_2(matrix, size)\n",
    "    # единичная матрица\n",
    "    ans = \"\"\n",
    "    E = [1 0; 0 1]\n",
    "    matrix_new = E - matrix\n",
    "    inv_matrix_new = inv(matrix_new)\n",
    "    for i in 1:1:size\n",
    "        for j in 1:1:size\n",
    "            if inv_matrix_new[i, j] < 0\n",
    "                ans = \"Матрица непродуктивная\"\n",
    "                break\n",
    "            else\n",
    "                ans = \"Матрица продуктивная\"\n",
    "            end\n",
    "        end\n",
    "    end\n",
    "    return ans\n",
    "end"
   ]
  },
  {
   "cell_type": "code",
   "execution_count": 90,
   "id": "8c40173b-bca6-46b1-9e7e-8805e5f3fab5",
   "metadata": {},
   "outputs": [
    {
     "data": {
      "text/plain": [
       "\"Матрица непродуктивная\""
      ]
     },
     "execution_count": 90,
     "metadata": {},
     "output_type": "execute_result"
    }
   ],
   "source": [
    "matrix_1 = [1 2; 3 1]\n",
    "productive_matrix_2(matrix_1, 2)"
   ]
  },
  {
   "cell_type": "code",
   "execution_count": 91,
   "id": "a8ddc296-f0dd-40f8-b165-d806ebc3b4fc",
   "metadata": {},
   "outputs": [
    {
     "data": {
      "text/plain": [
       "\"Матрица непродуктивная\""
      ]
     },
     "execution_count": 91,
     "metadata": {},
     "output_type": "execute_result"
    }
   ],
   "source": [
    "matrix_2 = ([1 2; 3 1])*(1/2)\n",
    "productive_matrix_2(matrix_2, 2)"
   ]
  },
  {
   "cell_type": "code",
   "execution_count": 92,
   "id": "bc9ddb51-f45d-4d7e-9a50-2b76a21ae817",
   "metadata": {},
   "outputs": [
    {
     "data": {
      "text/plain": [
       "\"Матрица продуктивная\""
      ]
     },
     "execution_count": 92,
     "metadata": {},
     "output_type": "execute_result"
    }
   ],
   "source": [
    "matrix_3 = ([1 2; 3 1])*(1/10)\n",
    "productive_matrix_2(matrix_3, 2)"
   ]
  },
  {
   "cell_type": "code",
   "execution_count": 93,
   "id": "6d145958-c270-4720-86db-99049efae598",
   "metadata": {},
   "outputs": [
    {
     "data": {
      "text/plain": [
       "productive_matrix_3 (generic function with 1 method)"
      ]
     },
     "execution_count": 93,
     "metadata": {},
     "output_type": "execute_result"
    }
   ],
   "source": [
    "function productive_matrix_3(matrix, size)\n",
    "    ans=\"\"\n",
    "    # найдем собственные значения переданной матрицы\n",
    "    eigenvalues = eigvals(matrix)\n",
    "    for i in 1:1:size\n",
    "        if abs(eigenvalues[i]) > 1\n",
    "            ans = \"Матрица непродуктивная\"\n",
    "            break\n",
    "        else\n",
    "            ans = \"Матрица продуктивная\"\n",
    "        end\n",
    "    end\n",
    "    return ans\n",
    "end"
   ]
  },
  {
   "cell_type": "code",
   "execution_count": 94,
   "id": "19e5f052-01f5-41d0-b6de-3514587cfd32",
   "metadata": {},
   "outputs": [
    {
     "data": {
      "text/plain": [
       "\"Матрица непродуктивная\""
      ]
     },
     "execution_count": 94,
     "metadata": {},
     "output_type": "execute_result"
    }
   ],
   "source": [
    "matrix_1 = [1 2; 3 1]\n",
    "productive_matrix_3(matrix_1, 2)"
   ]
  },
  {
   "cell_type": "code",
   "execution_count": 95,
   "id": "ef282181-61d1-4bf5-a7d9-2852338aa768",
   "metadata": {},
   "outputs": [
    {
     "data": {
      "text/plain": [
       "\"Матрица непродуктивная\""
      ]
     },
     "execution_count": 95,
     "metadata": {},
     "output_type": "execute_result"
    }
   ],
   "source": [
    "matrix_2 = ([1 2; 3 1])*(1/2)\n",
    "productive_matrix_3(matrix_2, 2)"
   ]
  },
  {
   "cell_type": "code",
   "execution_count": 96,
   "id": "4742da9a-ac9e-4875-87c8-db9e5df4ea9f",
   "metadata": {},
   "outputs": [
    {
     "data": {
      "text/plain": [
       "\"Матрица продуктивная\""
      ]
     },
     "execution_count": 96,
     "metadata": {},
     "output_type": "execute_result"
    }
   ],
   "source": [
    "matrix_3 = ([1 2; 3 1])*(1/10)\n",
    "productive_matrix_3(matrix_3, 2)"
   ]
  },
  {
   "cell_type": "code",
   "execution_count": 97,
   "id": "2d4194d3-d9eb-4bbb-98be-1a0d84d4cac7",
   "metadata": {},
   "outputs": [
    {
     "data": {
      "text/plain": [
       "\"Матрица продуктивная\""
      ]
     },
     "execution_count": 97,
     "metadata": {},
     "output_type": "execute_result"
    }
   ],
   "source": [
    "matrix_4 = [0.1 0.2 0.3; 0 0.1 0.2; 0 0.1 0.3]\n",
    "productive_matrix_3(matrix_4, 2)"
   ]
  },
  {
   "cell_type": "code",
   "execution_count": null,
   "id": "b253729a-e3cb-4e7d-90f1-ac611c82017c",
   "metadata": {},
   "outputs": [],
   "source": []
  },
  {
   "cell_type": "code",
   "execution_count": null,
   "id": "bf2aac4a-2727-4cb9-b10b-3acb87f6b5f8",
   "metadata": {},
   "outputs": [],
   "source": []
  }
 ],
 "metadata": {
  "kernelspec": {
   "display_name": "Julia 1.11.1",
   "language": "julia",
   "name": "julia-1.11"
  },
  "language_info": {
   "file_extension": ".jl",
   "mimetype": "application/julia",
   "name": "julia",
   "version": "1.11.1"
  }
 },
 "nbformat": 4,
 "nbformat_minor": 5
}
