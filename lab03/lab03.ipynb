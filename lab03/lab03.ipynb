{
 "cells": [
  {
   "cell_type": "markdown",
   "id": "766eeefc-422f-47ae-847d-d5c4ea01583f",
   "metadata": {},
   "source": [
    "\n",
    "## РОССИЙСКИЙ УНИВЕРСИТЕТ ДРУЖ|БЫ НАРОДОВ\n",
    "<center>\n",
    "<div align=\"justify\" style=\"font-weight: bold;font-style: italic;text-decoration: underline\">\n",
    "<p>Факультет физико-математических и естественных наук</p>\n",
    "<p>Кафедра теории вероятностей и кибербезопасности</p>\n",
    "</div>\n",
    "</center>\n",
    "Лабораторная работа № 3 | Управляющие структуры \n",
    "\n",
    "<div style=\"text-align: right\"> \n",
    "\n",
    "\n",
    "    \n",
    "    Студент: Абд эль хай Мохамад\n",
    "    Номер: 1032215163\n",
    "    Група: НПИбд-01-21\n",
    "\n",
    "\n",
    "\n",
    "    Москва 2025\n",
    "</div>\n",
    "\n",
    "\n",
    "\n"
   ]
  },
  {
   "cell_type": "markdown",
   "id": "5b4eab59-7804-445c-876a-7ce58cea0fb6",
   "metadata": {},
   "source": [
    "1.1. Цель работы\n",
    "    Основная цель работы — освоить применение циклов функций и сторонних для Julia пакетов для решения задач линейной алгебры и работы с матрицами."
   ]
  },
  {
   "cell_type": "markdown",
   "id": "303f61f5-6f1c-42e4-b918-06ed50fe3c38",
   "metadata": {},
   "source": [
    "## Циклы while и for"
   ]
  },
  {
   "cell_type": "code",
   "execution_count": 1,
   "id": "60ad50f2-6cb2-4729-92e9-9567ff9faa35",
   "metadata": {},
   "outputs": [
    {
     "name": "stdout",
     "output_type": "stream",
     "text": [
      " 1 2 3 4 5 6 7 8 9 10"
     ]
    }
   ],
   "source": [
    "n=0\n",
    "while n < 10\n",
    "    n += 1\n",
    "    print(\" \",n)\n",
    "end"
   ]
  },
  {
   "cell_type": "code",
   "execution_count": 2,
   "id": "a955b879-4f28-45c7-8340-6b8ac1a45651",
   "metadata": {},
   "outputs": [
    {
     "name": "stdout",
     "output_type": "stream",
     "text": [
      "Hi Vova \n",
      "Hi Andrey \n",
      "Hi Naimen \n"
     ]
    }
   ],
   "source": [
    "myfreinds = [\"Vova\",\"Andrey\",\"Naimen\"]\n",
    "i =1 \n",
    "while i<=length(myfreinds)\n",
    "    freind = myfreinds[i]\n",
    "    println(\"Hi $freind \")\n",
    "    i += 1\n",
    "end"
   ]
  },
  {
   "cell_type": "code",
   "execution_count": 6,
   "id": "0d68a4b5-e225-4307-8368-09f1f3100c03",
   "metadata": {},
   "outputs": [
    {
     "name": "stdout",
     "output_type": "stream",
     "text": [
      " Hi Vova \n",
      " Hi Andrey \n",
      " Hi Naimen \n"
     ]
    }
   ],
   "source": [
    "for i in myfreinds\n",
    "    println(\" Hi $i \")\n",
    "end"
   ]
  },
  {
   "cell_type": "code",
   "execution_count": 2,
   "id": "93b993b3-57ac-4135-b15c-6dcced10c4c4",
   "metadata": {},
   "outputs": [
    {
     "data": {
      "text/plain": [
       "5×5 Matrix{Int64}:\n",
       " 2  3  4  5   6\n",
       " 3  4  5  6   7\n",
       " 4  5  6  7   8\n",
       " 5  6  7  8   9\n",
       " 6  7  8  9  10"
      ]
     },
     "execution_count": 2,
     "metadata": {},
     "output_type": "execute_result"
    }
   ],
   "source": [
    "m,n = 5,5\n",
    "A=fill(0,(m,n))\n",
    "\n",
    "for i in 1:m\n",
    "    for j in 1:n\n",
    "        A[i,j] = i+j\n",
    "    end\n",
    "end\n",
    "A"
   ]
  },
  {
   "cell_type": "code",
   "execution_count": 3,
   "id": "124076ee-27a3-4e9c-95fa-731d7b82a82b",
   "metadata": {},
   "outputs": [
    {
     "data": {
      "text/plain": [
       "5×5 Matrix{Int64}:\n",
       " 2  3  4  5   6\n",
       " 3  4  5  6   7\n",
       " 4  5  6  7   8\n",
       " 5  6  7  8   9\n",
       " 6  7  8  9  10"
      ]
     },
     "execution_count": 3,
     "metadata": {},
     "output_type": "execute_result"
    }
   ],
   "source": [
    "B = fill(0,(m,n))\n",
    "\n",
    "for i in 1:m, j in 1:n\n",
    "    B[i,j] = i+j\n",
    "end \n",
    "B"
   ]
  },
  {
   "cell_type": "code",
   "execution_count": 4,
   "id": "af035a08-1c35-43f8-bd86-2019315ec1e5",
   "metadata": {},
   "outputs": [
    {
     "data": {
      "text/plain": [
       "5×5 Matrix{Int64}:\n",
       " 2  3  4  5   6\n",
       " 3  4  5  6   7\n",
       " 4  5  6  7   8\n",
       " 5  6  7  8   9\n",
       " 6  7  8  9  10"
      ]
     },
     "execution_count": 4,
     "metadata": {},
     "output_type": "execute_result"
    }
   ],
   "source": [
    "C = [ i+j for i in 1:m, j in 1:n]\n",
    "C"
   ]
  },
  {
   "cell_type": "markdown",
   "id": "7e67ef4c-56f9-4821-b66c-da65a405fc2f",
   "metadata": {},
   "source": [
    "## Условные выражения"
   ]
  },
  {
   "cell_type": "markdown",
   "id": "1c3e66d7-5b1f-401a-9ce5-469eb1a6ea98",
   "metadata": {},
   "source": [
    "Довольно часто при решении задач требуется проверить выполнение тех или иных условий. Для этого используют условные выражения."
   ]
  },
  {
   "cell_type": "code",
   "execution_count": 6,
   "id": "167c1526-2a30-4e50-a0b9-6715308ee2b8",
   "metadata": {},
   "outputs": [
    {
     "name": "stdout",
     "output_type": "stream",
     "text": [
      "Buzz\n"
     ]
    }
   ],
   "source": [
    "N = 5\n",
    "\n",
    "if ( N%3 == 0)&&( N%5 == 0)\n",
    "    println(\"FizzBuzz\")\n",
    "elseif N%3 == 0\n",
    "    println(\"Fizz\")\n",
    "elseif N%5 == 0\n",
    "    println(\"Buzz\")\n",
    "else \n",
    "    prinln(N)\n",
    "end\n"
   ]
  },
  {
   "cell_type": "code",
   "execution_count": 7,
   "id": "8d22997d-98a6-4bec-a78f-32be20825016",
   "metadata": {},
   "outputs": [
    {
     "data": {
      "text/plain": [
       "10"
      ]
     },
     "execution_count": 7,
     "metadata": {},
     "output_type": "execute_result"
    }
   ],
   "source": [
    "x = 5\n",
    "y = 10\n",
    "(x > y) ? x : y"
   ]
  },
  {
   "cell_type": "markdown",
   "id": "64797811-5e32-4aac-80b5-c97d757cc652",
   "metadata": {},
   "source": [
    "## Функции\n",
    "\n",
    "Julia дает нам несколько разных способов написать функцию. Первый требует ключевых слов function и end:"
   ]
  },
  {
   "cell_type": "code",
   "execution_count": 11,
   "id": "8ac445aa-bf0d-46bb-9cb4-fefb71b41625",
   "metadata": {},
   "outputs": [
    {
     "name": "stdout",
     "output_type": "stream",
     "text": [
      "Hi Mohamad, it's great to see you!\n"
     ]
    }
   ],
   "source": [
    "function sayhi(name)\n",
    "    println(\"Hi $name, it's great to see you!\")\n",
    "end\n",
    "\n",
    "sayhi(\"Mohamad\")"
   ]
  },
  {
   "cell_type": "code",
   "execution_count": 12,
   "id": "d12f9ca3-d8f7-441d-905b-4d840b58e418",
   "metadata": {},
   "outputs": [
    {
     "data": {
      "text/plain": [
       "9"
      ]
     },
     "execution_count": 12,
     "metadata": {},
     "output_type": "execute_result"
    }
   ],
   "source": [
    "function f(x)\n",
    "    x^2\n",
    "end\n",
    "\n",
    "f(3)"
   ]
  },
  {
   "cell_type": "markdown",
   "id": "cfaf240f-5c01-4eca-972a-017c30a69cf9",
   "metadata": {},
   "source": [
    "### Также можно объявить вышеперечисленные функции как анонимные"
   ]
  },
  {
   "cell_type": "code",
   "execution_count": 13,
   "id": "0f0e5e3c-2d04-4766-8c6f-c92008d0472d",
   "metadata": {},
   "outputs": [
    {
     "name": "stdout",
     "output_type": "stream",
     "text": [
      "Hi Bernard, it's great to see you!\n"
     ]
    }
   ],
   "source": [
    "sayhi3 = name -> println(\"Hi $name, it's great to see you!\")\n",
    "sayhi3(\"Bernard\")"
   ]
  },
  {
   "cell_type": "markdown",
   "id": "5b6d5315-f291-48f5-b2b7-4921664c111c",
   "metadata": {},
   "source": [
    "По соглашению в Julia функции, сопровождаемые восклицательным знаком, изменяют свое содержимое, а функции без восклицательного знака не делают этого."
   ]
  },
  {
   "cell_type": "code",
   "execution_count": 15,
   "id": "7221c033-57d9-4641-b015-ac13efacb1f9",
   "metadata": {},
   "outputs": [
    {
     "name": "stdout",
     "output_type": "stream",
     "text": [
      "[3, 5, 2]\n"
     ]
    },
    {
     "data": {
      "text/plain": [
       "3-element Vector{Int64}:\n",
       " 2\n",
       " 3\n",
       " 5"
      ]
     },
     "execution_count": 15,
     "metadata": {},
     "output_type": "execute_result"
    }
   ],
   "source": [
    "v = [3,5, 2]\n",
    "sort(v)\n",
    "println(v)\n",
    "sort!(v)\n",
    "v\n"
   ]
  },
  {
   "cell_type": "markdown",
   "id": "cfbd4a33-aa20-4ae8-90c4-f282f5da034f",
   "metadata": {},
   "source": [
    "Функция broadcast() будет пытаться привести все объекты к общему измерению, map() будет напрямую применять данную функцию поэлементно.\n"
   ]
  },
  {
   "cell_type": "code",
   "execution_count": 16,
   "id": "388d8a0b-d07c-4acb-90a2-5b40d94a8b52",
   "metadata": {},
   "outputs": [
    {
     "data": {
      "text/plain": [
       "3-element Vector{Int64}:\n",
       " 1\n",
       " 4\n",
       " 9"
      ]
     },
     "execution_count": 16,
     "metadata": {},
     "output_type": "execute_result"
    }
   ],
   "source": [
    "map(f, [1, 2, 3])\n",
    "\n",
    "f(x) = x^2\n",
    "broadcast(f, [1, 2, 3])"
   ]
  },
  {
   "cell_type": "code",
   "execution_count": 17,
   "id": "4a8276c7-e816-42e3-b674-f829bc23afb4",
   "metadata": {},
   "outputs": [
    {
     "data": {
      "text/plain": [
       "3×3 Matrix{Int64}:\n",
       " 1  2  3\n",
       " 4  5  6\n",
       " 7  8  9"
      ]
     },
     "execution_count": 17,
     "metadata": {},
     "output_type": "execute_result"
    }
   ],
   "source": [
    "A = [i + 3*j for j in 0:2, i in 1:3]"
   ]
  },
  {
   "cell_type": "code",
   "execution_count": 18,
   "id": "2b056500-8cd5-47fe-98e8-a5754726fbf4",
   "metadata": {},
   "outputs": [
    {
     "data": {
      "text/plain": [
       "3×3 Matrix{Int64}:\n",
       "  30   36   42\n",
       "  66   81   96\n",
       " 102  126  150"
      ]
     },
     "execution_count": 18,
     "metadata": {},
     "output_type": "execute_result"
    }
   ],
   "source": [
    "f(A)"
   ]
  },
  {
   "cell_type": "code",
   "execution_count": 19,
   "id": "eace71bc-56b2-4adb-8f1a-d852cb09b543",
   "metadata": {},
   "outputs": [
    {
     "data": {
      "text/plain": [
       "3×3 Matrix{Int64}:\n",
       "  1   4   9\n",
       " 16  25  36\n",
       " 49  64  81"
      ]
     },
     "execution_count": 19,
     "metadata": {},
     "output_type": "execute_result"
    }
   ],
   "source": [
    "B= f.(A)"
   ]
  },
  {
   "cell_type": "markdown",
   "id": "ef57fdf9-ee17-4eb7-82b5-bd8227b4b5ae",
   "metadata": {},
   "source": [
    "## Сторонние библиотеки (пакеты) в Julia"
   ]
  },
  {
   "cell_type": "code",
   "execution_count": 20,
   "id": "9bcffb9e-3851-425a-964c-98efb50beeb2",
   "metadata": {},
   "outputs": [
    {
     "name": "stderr",
     "output_type": "stream",
     "text": [
      "\u001b[32m\u001b[1m    Updating\u001b[22m\u001b[39m registry at `~/.julia/registries/General.toml`\n",
      "\u001b[32m\u001b[1m   Resolving\u001b[22m\u001b[39m package versions...\n",
      "\u001b[32m\u001b[1m   Installed\u001b[22m\u001b[39m Example ─ v0.5.5\n",
      "\u001b[32m\u001b[1m    Updating\u001b[22m\u001b[39m `~/.julia/environments/v1.11/Project.toml`\n",
      "  \u001b[90m[7876af07] \u001b[39m\u001b[92m+ Example v0.5.5\u001b[39m\n",
      "\u001b[32m\u001b[1m    Updating\u001b[22m\u001b[39m `~/.julia/environments/v1.11/Manifest.toml`\n",
      "  \u001b[90m[7876af07] \u001b[39m\u001b[92m+ Example v0.5.5\u001b[39m\n",
      "\u001b[92m\u001b[1mPrecompiling\u001b[22m\u001b[39m project...\n",
      "   1524.9 ms\u001b[32m  ✓ \u001b[39mExample\n",
      "  1 dependency successfully precompiled in 3 seconds. 43 already precompiled.\n"
     ]
    }
   ],
   "source": [
    "import Pkg\n",
    "Pkg.add(\"Example\")"
   ]
  },
  {
   "cell_type": "code",
   "execution_count": 21,
   "id": "47302bd9-0d5c-4fc9-967f-a5760b32509d",
   "metadata": {},
   "outputs": [
    {
     "name": "stderr",
     "output_type": "stream",
     "text": [
      "\u001b[32m\u001b[1m   Resolving\u001b[22m\u001b[39m package versions...\n",
      "\u001b[32m\u001b[1m   Installed\u001b[22m\u001b[39m Reexport ────────── v1.2.2\n",
      "\u001b[32m\u001b[1m   Installed\u001b[22m\u001b[39m FixedPointNumbers ─ v0.8.5\n",
      "\u001b[32m\u001b[1m   Installed\u001b[22m\u001b[39m ColorTypes ──────── v0.12.0\n",
      "\u001b[32m\u001b[1m   Installed\u001b[22m\u001b[39m Statistics ──────── v1.11.1\n",
      "\u001b[32m\u001b[1m   Installed\u001b[22m\u001b[39m Colors ──────────── v0.13.0\n",
      "\u001b[32m\u001b[1m    Updating\u001b[22m\u001b[39m `~/.julia/environments/v1.11/Project.toml`\n",
      "  \u001b[90m[5ae59095] \u001b[39m\u001b[92m+ Colors v0.13.0\u001b[39m\n",
      "\u001b[32m\u001b[1m    Updating\u001b[22m\u001b[39m `~/.julia/environments/v1.11/Manifest.toml`\n",
      "  \u001b[90m[3da002f7] \u001b[39m\u001b[92m+ ColorTypes v0.12.0\u001b[39m\n",
      "  \u001b[90m[5ae59095] \u001b[39m\u001b[92m+ Colors v0.13.0\u001b[39m\n",
      "  \u001b[90m[53c48c17] \u001b[39m\u001b[92m+ FixedPointNumbers v0.8.5\u001b[39m\n",
      "  \u001b[90m[189a3867] \u001b[39m\u001b[92m+ Reexport v1.2.2\u001b[39m\n",
      "  \u001b[90m[10745b16] \u001b[39m\u001b[92m+ Statistics v1.11.1\u001b[39m\n",
      "  \u001b[90m[37e2e46d] \u001b[39m\u001b[92m+ LinearAlgebra v1.11.0\u001b[39m\n",
      "  \u001b[90m[e66e0078] \u001b[39m\u001b[92m+ CompilerSupportLibraries_jll v1.1.1+0\u001b[39m\n",
      "  \u001b[90m[4536629a] \u001b[39m\u001b[92m+ OpenBLAS_jll v0.3.27+1\u001b[39m\n",
      "  \u001b[90m[8e850b90] \u001b[39m\u001b[92m+ libblastrampoline_jll v5.11.0+0\u001b[39m\n",
      "\u001b[92m\u001b[1mPrecompiling\u001b[22m\u001b[39m project...\n",
      "    744.2 ms\u001b[32m  ✓ \u001b[39m\u001b[90mReexport\u001b[39m\n",
      "    917.6 ms\u001b[32m  ✓ \u001b[39m\u001b[90mStatistics\u001b[39m\n",
      "   3319.8 ms\u001b[32m  ✓ \u001b[39m\u001b[90mFixedPointNumbers\u001b[39m\n",
      "   2029.0 ms\u001b[32m  ✓ \u001b[39m\u001b[90mColorTypes\u001b[39m\n",
      "    973.6 ms\u001b[32m  ✓ \u001b[39m\u001b[90mColorTypes → StyledStringsExt\u001b[39m\n",
      "   7025.6 ms\u001b[32m  ✓ \u001b[39mColors\n",
      "  6 dependencies successfully precompiled in 14 seconds. 45 already precompiled.\n"
     ]
    }
   ],
   "source": [
    "Pkg.add(\"Colors\")\n",
    "using Colors"
   ]
  },
  {
   "cell_type": "code",
   "execution_count": 22,
   "id": "9b83756f-0949-4463-8a87-b8d081ac35f9",
   "metadata": {},
   "outputs": [
    {
     "data": {
      "image/svg+xml": [
       "<?xml version=\"1.0\" encoding=\"UTF-8\"?>\n",
       "<!DOCTYPE svg PUBLIC \"-//W3C//DTD SVG 1.1//EN\"\n",
       " \"http://www.w3.org/Graphics/SVG/1.1/DTD/svg11.dtd\">\n",
       "<svg xmlns=\"http://www.w3.org/2000/svg\" version=\"1.1\"\n",
       "     width=\"180mm\" height=\"25mm\"\n",
       "     viewBox=\"0 0 100 1\" preserveAspectRatio=\"none\"\n",
       "     shape-rendering=\"crispEdges\" stroke=\"none\">\n",
       "<rect width=\"1\" height=\".96\" x=\"0\" y=\"0\" fill=\"#000000\" />\n",
       "<rect width=\"1\" height=\".96\" x=\"1\" y=\"0\" fill=\"#FFFF74\" />\n",
       "<rect width=\"1\" height=\".96\" x=\"2\" y=\"0\" fill=\"#FF9BFF\" />\n",
       "<rect width=\"1\" height=\".96\" x=\"3\" y=\"0\" fill=\"#00D3FF\" />\n",
       "<rect width=\"1\" height=\".96\" x=\"4\" y=\"0\" fill=\"#E2630D\" />\n",
       "<rect width=\"1\" height=\".96\" x=\"5\" y=\"0\" fill=\"#007E00\" />\n",
       "<rect width=\"1\" height=\".96\" x=\"6\" y=\"0\" fill=\"#0050E6\" />\n",
       "<rect width=\"1\" height=\".96\" x=\"7\" y=\"0\" fill=\"#AC0047\" />\n",
       "<rect width=\"1\" height=\".96\" x=\"8\" y=\"0\" fill=\"#00FFC8\" />\n",
       "<rect width=\"1\" height=\".96\" x=\"9\" y=\"0\" fill=\"#006468\" />\n",
       "<rect width=\"1\" height=\".96\" x=\"10\" y=\"0\" fill=\"#FFD5C4\" />\n",
       "<rect width=\"1\" height=\".96\" x=\"11\" y=\"0\" fill=\"#6C5200\" />\n",
       "<rect width=\"1\" height=\".96\" x=\"12\" y=\"0\" fill=\"#7A7581\" />\n",
       "<rect width=\"1\" height=\".96\" x=\"13\" y=\"0\" fill=\"#44005C\" />\n",
       "<rect width=\"1\" height=\".96\" x=\"14\" y=\"0\" fill=\"#9E9E77\" />\n",
       "<rect width=\"1\" height=\".96\" x=\"15\" y=\"0\" fill=\"#FF5C78\" />\n",
       "<rect width=\"1\" height=\".96\" x=\"16\" y=\"0\" fill=\"#8197F1\" />\n",
       "<rect width=\"1\" height=\".96\" x=\"17\" y=\"0\" fill=\"#003200\" />\n",
       "<rect width=\"1\" height=\".96\" x=\"18\" y=\"0\" fill=\"#C721DD\" />\n",
       "<rect width=\"1\" height=\".96\" x=\"19\" y=\"0\" fill=\"#FFAD07\" />\n",
       "<rect width=\"1\" height=\".96\" x=\"20\" y=\"0\" fill=\"#611C00\" />\n",
       "<rect width=\"1\" height=\".96\" x=\"21\" y=\"0\" fill=\"#F3FFFA\" />\n",
       "<rect width=\"1\" height=\".96\" x=\"22\" y=\"0\" fill=\"#009E88\" />\n",
       "<rect width=\"1\" height=\".96\" x=\"23\" y=\"0\" fill=\"#5EC700\" />\n",
       "<rect width=\"1\" height=\".96\" x=\"24\" y=\"0\" fill=\"#002D54\" />\n",
       "<rect width=\"1\" height=\".96\" x=\"25\" y=\"0\" fill=\"#553C4A\" />\n",
       "<rect width=\"1\" height=\".96\" x=\"26\" y=\"0\" fill=\"#444439\" />\n",
       "<rect width=\"1\" height=\".96\" x=\"27\" y=\"0\" fill=\"#008FB6\" />\n",
       "<rect width=\"1\" height=\".96\" x=\"28\" y=\"0\" fill=\"#CFD4FD\" />\n",
       "<rect width=\"1\" height=\".96\" x=\"29\" y=\"0\" fill=\"#C40000\" />\n",
       "<rect width=\"1\" height=\".96\" x=\"30\" y=\"0\" fill=\"#A4675C\" />\n",
       "<rect width=\"1\" height=\".96\" x=\"31\" y=\"0\" fill=\"#BB8FA8\" />\n",
       "<rect width=\"1\" height=\".96\" x=\"32\" y=\"0\" fill=\"#290001\" />\n",
       "<rect width=\"1\" height=\".96\" x=\"33\" y=\"0\" fill=\"#A78600\" />\n",
       "<rect width=\"1\" height=\".96\" x=\"34\" y=\"0\" fill=\"#002D30\" />\n",
       "<rect width=\"1\" height=\".96\" x=\"35\" y=\"0\" fill=\"#C7DEAA\" />\n",
       "<rect width=\"1\" height=\".96\" x=\"36\" y=\"0\" fill=\"#8D9FA3\" />\n",
       "<rect width=\"1\" height=\".96\" x=\"37\" y=\"0\" fill=\"#6F5B95\" />\n",
       "<rect width=\"1\" height=\".96\" x=\"38\" y=\"0\" fill=\"#A1FFFF\" />\n",
       "<rect width=\"1\" height=\".96\" x=\"39\" y=\"0\" fill=\"#B39688\" />\n",
       "<rect width=\"1\" height=\".96\" x=\"40\" y=\"0\" fill=\"#4E6D50\" />\n",
       "<rect width=\"1\" height=\".96\" x=\"41\" y=\"0\" fill=\"#FF977B\" />\n",
       "<rect width=\"1\" height=\".96\" x=\"42\" y=\"0\" fill=\"#FFD1EC\" />\n",
       "<rect width=\"1\" height=\".96\" x=\"43\" y=\"0\" fill=\"#9E5100\" />\n",
       "<rect width=\"1\" height=\".96\" x=\"44\" y=\"0\" fill=\"#AE5B8E\" />\n",
       "<rect width=\"1\" height=\".96\" x=\"45\" y=\"0\" fill=\"#799400\" />\n",
       "<rect width=\"1\" height=\".96\" x=\"46\" y=\"0\" fill=\"#362200\" />\n",
       "<rect width=\"1\" height=\".96\" x=\"47\" y=\"0\" fill=\"#0E0026\" />\n",
       "<rect width=\"1\" height=\".96\" x=\"48\" y=\"0\" fill=\"#80765F\" />\n",
       "<rect width=\"1\" height=\".96\" x=\"49\" y=\"0\" fill=\"#485C00\" />\n",
       "<rect width=\"1\" height=\".96\" x=\"50\" y=\"0\" fill=\"#C8C2B5\" />\n",
       "<rect width=\"1\" height=\".96\" x=\"51\" y=\"0\" fill=\"#8800A1\" />\n",
       "<rect width=\"1\" height=\".96\" x=\"52\" y=\"0\" fill=\"#00A853\" />\n",
       "<rect width=\"1\" height=\".96\" x=\"53\" y=\"0\" fill=\"#FFE1AA\" />\n",
       "<rect width=\"1\" height=\".96\" x=\"54\" y=\"0\" fill=\"#674F42\" />\n",
       "<rect width=\"1\" height=\".96\" x=\"55\" y=\"0\" fill=\"#FF342D\" />\n",
       "<rect width=\"1\" height=\".96\" x=\"56\" y=\"0\" fill=\"#6B0041\" />\n",
       "<rect width=\"1\" height=\".96\" x=\"57\" y=\"0\" fill=\"#0806B1\" />\n",
       "<rect width=\"1\" height=\".96\" x=\"58\" y=\"0\" fill=\"#986DFF\" />\n",
       "<rect width=\"1\" height=\".96\" x=\"59\" y=\"0\" fill=\"#FF4EC7\" />\n",
       "<rect width=\"1\" height=\".96\" x=\"60\" y=\"0\" fill=\"#8AB9A2\" />\n",
       "<rect width=\"1\" height=\".96\" x=\"61\" y=\"0\" fill=\"#2EFF71\" />\n",
       "<rect width=\"1\" height=\".96\" x=\"62\" y=\"0\" fill=\"#005577\" />\n",
       "<rect width=\"1\" height=\".96\" x=\"63\" y=\"0\" fill=\"#0078E3\" />\n",
       "<rect width=\"1\" height=\".96\" x=\"64\" y=\"0\" fill=\"#B2ADB9\" />\n",
       "<rect width=\"1\" height=\".96\" x=\"65\" y=\"0\" fill=\"#00C3C6\" />\n",
       "<rect width=\"1\" height=\".96\" x=\"66\" y=\"0\" fill=\"#00AEFF\" />\n",
       "<rect width=\"1\" height=\".96\" x=\"67\" y=\"0\" fill=\"#4E545F\" />\n",
       "<rect width=\"1\" height=\".96\" x=\"68\" y=\"0\" fill=\"#FF9BB0\" />\n",
       "<rect width=\"1\" height=\".96\" x=\"69\" y=\"0\" fill=\"#FED206\" />\n",
       "<rect width=\"1\" height=\".96\" x=\"70\" y=\"0\" fill=\"#687B7A\" />\n",
       "<rect width=\"1\" height=\".96\" x=\"71\" y=\"0\" fill=\"#B1DCFC\" />\n",
       "<rect width=\"1\" height=\".96\" x=\"72\" y=\"0\" fill=\"#FFF6FF\" />\n",
       "<rect width=\"1\" height=\".96\" x=\"73\" y=\"0\" fill=\"#620019\" />\n",
       "<rect width=\"1\" height=\".96\" x=\"74\" y=\"0\" fill=\"#C79253\" />\n",
       "<rect width=\"1\" height=\".96\" x=\"75\" y=\"0\" fill=\"#A891CF\" />\n",
       "<rect width=\"1\" height=\".96\" x=\"76\" y=\"0\" fill=\"#EF007A\" />\n",
       "<rect width=\"1\" height=\".96\" x=\"77\" y=\"0\" fill=\"#B8CE00\" />\n",
       "<rect width=\"1\" height=\".96\" x=\"78\" y=\"0\" fill=\"#001700\" />\n",
       "<rect width=\"1\" height=\".96\" x=\"79\" y=\"0\" fill=\"#204B39\" />\n",
       "<rect width=\"1\" height=\".96\" x=\"80\" y=\"0\" fill=\"#875866\" />\n",
       "<rect width=\"1\" height=\".96\" x=\"81\" y=\"0\" fill=\"#B5FF4E\" />\n",
       "<rect width=\"1\" height=\".96\" x=\"82\" y=\"0\" fill=\"#B40080\" />\n",
       "<rect width=\"1\" height=\".96\" x=\"83\" y=\"0\" fill=\"#853F34\" />\n",
       "<rect width=\"1\" height=\".96\" x=\"84\" y=\"0\" fill=\"#69936B\" />\n",
       "<rect width=\"1\" height=\".96\" x=\"85\" y=\"0\" fill=\"#FFBC80\" />\n",
       "<rect width=\"1\" height=\".96\" x=\"86\" y=\"0\" fill=\"#4C3779\" />\n",
       "<rect width=\"1\" height=\".96\" x=\"87\" y=\"0\" fill=\"#323606\" />\n",
       "<rect width=\"1\" height=\".96\" x=\"88\" y=\"0\" fill=\"#008E94\" />\n",
       "<rect width=\"1\" height=\".96\" x=\"89\" y=\"0\" fill=\"#CAAC51\" />\n",
       "<rect width=\"1\" height=\".96\" x=\"90\" y=\"0\" fill=\"#787B3B\" />\n",
       "<rect width=\"1\" height=\".96\" x=\"91\" y=\"0\" fill=\"#B6F9D9\" />\n",
       "<rect width=\"1\" height=\".96\" x=\"92\" y=\"0\" fill=\"#DA003F\" />\n",
       "<rect width=\"1\" height=\".96\" x=\"93\" y=\"0\" fill=\"#2E2124\" />\n",
       "<rect width=\"1\" height=\".96\" x=\"94\" y=\"0\" fill=\"#005815\" />\n",
       "<rect width=\"1\" height=\".96\" x=\"95\" y=\"0\" fill=\"#FF8E1D\" />\n",
       "<rect width=\"1\" height=\".96\" x=\"96\" y=\"0\" fill=\"#6674B1\" />\n",
       "<rect width=\"1\" height=\".96\" x=\"97\" y=\"0\" fill=\"#00CDAD\" />\n",
       "<rect width=\"1\" height=\".96\" x=\"98\" y=\"0\" fill=\"#007F63\" />\n",
       "<rect width=\"1\" height=\".96\" x=\"99\" y=\"0\" fill=\"#996F3D\" />\n",
       "</svg>"
      ],
      "text/plain": [
       "100-element Vector{RGB{FixedPointNumbers.N0f8}}:\n",
       " RGB(0.0, 0.0, 0.0)\n",
       " RGB(1.0, 1.0, 0.455)\n",
       " RGB(1.0, 0.608, 1.0)\n",
       " RGB(0.0, 0.827, 1.0)\n",
       " RGB(0.886, 0.388, 0.051)\n",
       " RGB(0.0, 0.494, 0.0)\n",
       " RGB(0.0, 0.314, 0.902)\n",
       " RGB(0.675, 0.0, 0.278)\n",
       " RGB(0.0, 1.0, 0.784)\n",
       " RGB(0.0, 0.392, 0.408)\n",
       " RGB(1.0, 0.835, 0.769)\n",
       " RGB(0.424, 0.322, 0.0)\n",
       " RGB(0.478, 0.459, 0.506)\n",
       " ⋮\n",
       " RGB(0.0, 0.557, 0.58)\n",
       " RGB(0.792, 0.675, 0.318)\n",
       " RGB(0.471, 0.482, 0.231)\n",
       " RGB(0.714, 0.976, 0.851)\n",
       " RGB(0.855, 0.0, 0.247)\n",
       " RGB(0.18, 0.129, 0.141)\n",
       " RGB(0.0, 0.345, 0.082)\n",
       " RGB(1.0, 0.557, 0.114)\n",
       " RGB(0.4, 0.455, 0.694)\n",
       " RGB(0.0, 0.804, 0.678)\n",
       " RGB(0.0, 0.498, 0.388)\n",
       " RGB(0.6, 0.435, 0.239)"
      ]
     },
     "execution_count": 22,
     "metadata": {},
     "output_type": "execute_result"
    }
   ],
   "source": [
    "palette = distinguishable_colors(100)"
   ]
  },
  {
   "cell_type": "code",
   "execution_count": 24,
   "id": "f6b77245-4636-4750-9b8d-d5dd1c278046",
   "metadata": {},
   "outputs": [
    {
     "data": {
      "image/svg+xml": [
       "<?xml version=\"1.0\" encoding=\"UTF-8\"?>\n",
       "<!DOCTYPE svg PUBLIC \"-//W3C//DTD SVG 1.1//EN\"\n",
       " \"http://www.w3.org/Graphics/SVG/1.1/DTD/svg11.dtd\">\n",
       "<svg xmlns=\"http://www.w3.org/2000/svg\" version=\"1.1\"\n",
       "     width=\"75mm\" height=\"75mm\"\n",
       "     viewBox=\"0 0 3 3\" preserveAspectRatio=\"none\"\n",
       "     shape-rendering=\"crispEdges\" stroke=\"none\">\n",
       "<rect width=\".96\" height=\".96\" x=\"0\" y=\"0\" fill=\"#005815\" />\n",
       "<rect width=\".96\" height=\".96\" x=\"1\" y=\"0\" fill=\"#AE5B8E\" />\n",
       "<rect width=\".96\" height=\".96\" x=\"2\" y=\"0\" fill=\"#B5FF4E\" />\n",
       "<rect width=\".96\" height=\".96\" x=\"0\" y=\"1\" fill=\"#FFAD07\" />\n",
       "<rect width=\".96\" height=\".96\" x=\"1\" y=\"1\" fill=\"#4C3779\" />\n",
       "<rect width=\".96\" height=\".96\" x=\"2\" y=\"1\" fill=\"#FFE1AA\" />\n",
       "<rect width=\".96\" height=\".96\" x=\"0\" y=\"2\" fill=\"#001700\" />\n",
       "<rect width=\".96\" height=\".96\" x=\"1\" y=\"2\" fill=\"#4E545F\" />\n",
       "<rect width=\".96\" height=\".96\" x=\"2\" y=\"2\" fill=\"#A891CF\" />\n",
       "</svg>"
      ],
      "text/plain": [
       "3×3 Matrix{RGB{FixedPointNumbers.N0f8}}:\n",
       " RGB(0.0, 0.345, 0.082)  RGB(0.682, 0.357, 0.557)  RGB(0.71, 1.0, 0.306)\n",
       " RGB(1.0, 0.678, 0.027)  RGB(0.298, 0.216, 0.475)  RGB(1.0, 0.882, 0.667)\n",
       " RGB(0.0, 0.09, 0.0)     RGB(0.306, 0.329, 0.373)  RGB(0.659, 0.569, 0.812)"
      ]
     },
     "execution_count": 24,
     "metadata": {},
     "output_type": "execute_result"
    }
   ],
   "source": [
    "rand(palette, 3, 3)"
   ]
  },
  {
   "cell_type": "markdown",
   "id": "806aeec4-dd3c-4feb-9336-7a10d516fd25",
   "metadata": {},
   "source": [
    "## Задания для самостоятельного выполнения"
   ]
  },
  {
   "cell_type": "markdown",
   "id": "01913d96-e466-4024-9780-f26c0e0b51cd",
   "metadata": {},
   "source": [
    "1. Используя циклы while и for:\n",
    "    - выведите на экран целые числа от 1 до 100 и напечатайте их квадраты;\n",
    "    - создайте словарь squares, который будет содержать целые числа в качестве ключей и квадраты в качестве их пар-значений;\n",
    "    - создайте массив squares_arr, содержащий квадраты всех чисел от 1 до 100."
   ]
  },
  {
   "cell_type": "code",
   "execution_count": 26,
   "id": "e43b4ffb-bf92-4fb6-a12c-987a5b71ff6f",
   "metadata": {},
   "outputs": [
    {
     "name": "stdout",
     "output_type": "stream",
     "text": [
      " 1 2 3 4 5 6 7 8 9 10 11 12 13 14 15 16 17 18 19 20 21 22 23 24 25 26 27 28 29 30 31 32 33 34 35 36 37 38 39 40 41 42 43 44 45 46 47 48 49 50 51 52 53 54 55 56 57 58 59 60 61 62 63 64 65 66 67 68 69 70 71 72 73 74 75 76 77 78 79 80 81 82 83 84 85 86 87 88 89 90 91 92 93 94 95 96 97 98 99 100"
     ]
    }
   ],
   "source": [
    "for i in 1:100\n",
    "    print(\" \",i)\n",
    "end"
   ]
  },
  {
   "cell_type": "code",
   "execution_count": 1,
   "id": "21ede0d5-e6dc-46d1-92ad-6b62b3b56640",
   "metadata": {},
   "outputs": [
    {
     "name": "stdout",
     "output_type": "stream",
     "text": [
      " 1 4 9 16 25 36 49 64 81 100 121 144 169 196 225 256 289 324 361 400 441 484 529 576 625 676 729 784 841 900 961 1024 1089 1156 1225 1296 1369 1444 1521 1600 1681 1764 1849 1936 2025 2116 2209 2304 2401 2500 2601 2704 2809 2916 3025 3136 3249 3364 3481 3600 3721 3844 3969 4096 4225 4356 4489 4624 4761 4900 5041 5184 5329 5476 5625 5776 5929 6084 6241 6400 6561 6724 6889 7056 7225 7396 7569 7744 7921 8100 8281 8464 8649 8836 9025 9216 9409 9604 9801 10000"
     ]
    }
   ],
   "source": [
    "i =1\n",
    "while i <= 100\n",
    "    print(\" \",i^2)\n",
    "    i += 1\n",
    "end\n",
    "    "
   ]
  },
  {
   "cell_type": "code",
   "execution_count": 5,
   "id": "dddf7b8d-361a-4ac4-925b-0cacae902c2f",
   "metadata": {},
   "outputs": [
    {
     "name": "stdout",
     "output_type": "stream",
     "text": [
      "Dict(5 => 25, 56 => 3136, 35 => 1225, 55 => 3025, 60 => 3600, 30 => 900, 32 => 1024, 6 => 36, 67 => 4489, 45 => 2025, 73 => 5329, 64 => 4096, 90 => 8100, 4 => 16, 13 => 169, 54 => 2916, 63 => 3969, 86 => 7396, 91 => 8281, 62 => 3844, 58 => 3364, 52 => 2704, 12 => 144, 28 => 784, 75 => 5625, 23 => 529, 92 => 8464, 41 => 1681, 43 => 1849, 11 => 121, 36 => 1296, 68 => 4624, 69 => 4761, 98 => 9604, 82 => 6724, 85 => 7225, 39 => 1521, 84 => 7056, 77 => 5929, 7 => 49, 25 => 625, 95 => 9025, 71 => 5041, 66 => 4356, 76 => 5776, 34 => 1156, 50 => 2500, 59 => 3481, 93 => 8649, 2 => 4, 10 => 100, 18 => 324, 26 => 676, 27 => 729, 42 => 1764, 87 => 7569, 100 => 10000, 79 => 6241, 16 => 256, 20 => 400, 81 => 6561, 19 => 361, 49 => 2401, 44 => 1936, 9 => 81, 31 => 961, 74 => 5476, 61 => 3721, 29 => 841, 94 => 8836, 46 => 2116, 57 => 3249, 70 => 4900, 21 => 441, 38 => 1444, 88 => 7744, 78 => 6084, 72 => 5184, 24 => 576, 8 => 64, 17 => 289, 37 => 1369, 1 => 1, 53 => 2809, 22 => 484, 47 => 2209, 83 => 6889, 99 => 9801, 89 => 7921, 14 => 196, 3 => 9, 80 => 6400, 96 => 9216, 51 => 2601, 33 => 1089, 40 => 1600, 48 => 2304, 15 => 225, 65 => 4225, 97 => 9409)"
     ]
    }
   ],
   "source": [
    "squares = Dict{Int64, Int64}()\n",
    "# занесем значения в словарь\n",
    "for i in 1:100\n",
    "    push!(squares, i => i^2)\n",
    "end\n",
    "print(pairs(squares))"
   ]
  },
  {
   "cell_type": "markdown",
   "id": "b75b3f20-163c-4b81-86a4-cb09cd701058",
   "metadata": {},
   "source": [
    "2. Напишите условный оператор, который печатает число, если число чётное, и строку «нечётное», если число нечётное. Перепишите код, используя тернарный оператор."
   ]
  },
  {
   "cell_type": "code",
   "execution_count": 6,
   "id": "8cb4b924-60f4-4ec2-a1e4-090b990a2f51",
   "metadata": {},
   "outputs": [
    {
     "name": "stdout",
     "output_type": "stream",
     "text": [
      "Нечетное число\n"
     ]
    }
   ],
   "source": [
    "N = 5\n",
    "if N % 2 == 0\n",
    "    println(\"Четное число\")\n",
    "else\n",
    "    println(\"Нечетное число\")\n",
    "end"
   ]
  },
  {
   "cell_type": "code",
   "execution_count": 7,
   "id": "58378151-e625-48b7-b334-5eeac6c491dc",
   "metadata": {},
   "outputs": [
    {
     "name": "stdout",
     "output_type": "stream",
     "text": [
      "Четное число\n"
     ]
    }
   ],
   "source": [
    "N = 4\n",
    "(N % 2 == 0) ? println(\"Четное число\") : println(\"Нечетное число\")"
   ]
  },
  {
   "cell_type": "markdown",
   "id": "404e78b1-c915-4cd5-8ffc-6d0b51909bab",
   "metadata": {},
   "source": [
    "3. Напишите функцию add_one, которая добавляет 1 к своему входу.\n"
   ]
  },
  {
   "cell_type": "code",
   "execution_count": 8,
   "id": "4803608f-9888-4a2f-803c-77a214eb9f68",
   "metadata": {},
   "outputs": [
    {
     "data": {
      "text/plain": [
       "6"
      ]
     },
     "execution_count": 8,
     "metadata": {},
     "output_type": "execute_result"
    }
   ],
   "source": [
    "function add_one(X)\n",
    "    X + 1\n",
    "end\n",
    "add_one(5)"
   ]
  },
  {
   "cell_type": "markdown",
   "id": "117d430b-7139-46a9-a8d3-c873e28fc84c",
   "metadata": {},
   "source": [
    "4. Используйте map() или broadcast() для задания матрицы 𝐴, каждый элемент которой увеличивается на единицу по сравнению с предыдущим.\n"
   ]
  },
  {
   "cell_type": "code",
   "execution_count": 9,
   "id": "88d75885-35d6-4ba7-98cc-635ad5f27d24",
   "metadata": {},
   "outputs": [
    {
     "data": {
      "text/plain": [
       "4×4 Matrix{Int64}:\n",
       " 1  5   9  13\n",
       " 2  6  10  14\n",
       " 3  7  11  15\n",
       " 4  8  12  16"
      ]
     },
     "execution_count": 9,
     "metadata": {},
     "output_type": "execute_result"
    }
   ],
   "source": [
    "X = fill(1, 4 * 4)\n",
    "Y = collect(0:(length(X) - 1))\n",
    "X = reshape(map(+, X, Y), (4, 4))"
   ]
  },
  {
   "cell_type": "markdown",
   "id": "b1708bd6-a729-48c8-b4be-2080df9efee4",
   "metadata": {},
   "source": [
    "5. Задайте матрицу 𝐴 \n"
   ]
  },
  {
   "cell_type": "code",
   "execution_count": 10,
   "id": "c8886105-eac2-47b5-9ada-8535c3feb519",
   "metadata": {},
   "outputs": [
    {
     "data": {
      "text/plain": [
       "3×3 Matrix{Int64}:\n",
       "  1   1   3\n",
       "  5   2   6\n",
       " -2  -1  -3"
      ]
     },
     "execution_count": 10,
     "metadata": {},
     "output_type": "execute_result"
    }
   ],
   "source": [
    "A = [1 1 3; 5 2 6; -2 -1 -3]"
   ]
  },
  {
   "cell_type": "code",
   "execution_count": 11,
   "id": "c09b5e82-9581-4c81-8187-1ddb6a0039d4",
   "metadata": {},
   "outputs": [
    {
     "data": {
      "text/plain": [
       "3×3 Matrix{Int64}:\n",
       " 0  0  0\n",
       " 0  0  0\n",
       " 0  0  0"
      ]
     },
     "execution_count": 11,
     "metadata": {},
     "output_type": "execute_result"
    }
   ],
   "source": [
    "A^3"
   ]
  },
  {
   "cell_type": "code",
   "execution_count": 12,
   "id": "ed2805bd-12fe-48dd-80a7-9a3fc3a54128",
   "metadata": {},
   "outputs": [
    {
     "data": {
      "text/plain": [
       "3×3 Matrix{Int64}:\n",
       "  1   1   4\n",
       "  5   2   8\n",
       " -2  -1  -4"
      ]
     },
     "execution_count": 12,
     "metadata": {},
     "output_type": "execute_result"
    }
   ],
   "source": [
    "for i in 7:1:9\n",
    "    A[i] += A[i-3]\n",
    "end\n",
    "A"
   ]
  },
  {
   "cell_type": "markdown",
   "id": "78507995-b54b-4952-a50c-0a999ab28500",
   "metadata": {},
   "source": [
    "6. Создайте матрицу 𝐵 с элементами 𝐵𝑖1 = 10, 𝐵𝑖2 = −10, 𝐵𝑖3 = 10, 𝑖 = 1, 2, … , 15. Вычислите матрицу 𝐶 = (𝐵^𝑇)𝐵."
   ]
  },
  {
   "cell_type": "code",
   "execution_count": 13,
   "id": "6561f1f7-df99-4025-af2b-25bf25dd88fa",
   "metadata": {},
   "outputs": [
    {
     "data": {
      "text/plain": [
       "15×3 Matrix{Int32}:\n",
       " 10  -10  10\n",
       " 10  -10  10\n",
       " 10  -10  10\n",
       " 10  -10  10\n",
       " 10  -10  10\n",
       " 10  -10  10\n",
       " 10  -10  10\n",
       " 10  -10  10\n",
       " 10  -10  10\n",
       " 10  -10  10\n",
       " 10  -10  10\n",
       " 10  -10  10\n",
       " 10  -10  10\n",
       " 10  -10  10\n",
       " 10  -10  10"
      ]
     },
     "execution_count": 13,
     "metadata": {},
     "output_type": "execute_result"
    }
   ],
   "source": [
    "# объявим матрицу B\n",
    "B = Array{Int32, 2}(undef, 15, 3)\n",
    "\n",
    "# заполним матрицу в соответствии с заданием\n",
    "for i in 1:1:15\n",
    "    B[i, 1] = 10\n",
    "    B[i, 2] = -10\n",
    "    B[i, 3] = 10\n",
    "end\n",
    "B"
   ]
  },
  {
   "cell_type": "markdown",
   "id": "6b170013-3dfe-4c26-88f8-80c074f18614",
   "metadata": {},
   "source": [
    "7. Создайте матрицу 𝑍 размерности 6 × 6, все элементы которой равны нулю, и матрицу 𝐸, все элементы которой равны 1. Используя цикл while или for и закономерности расположения элементов, создайте следующие матрицы размерности 6 × 6."
   ]
  },
  {
   "cell_type": "code",
   "execution_count": 14,
   "id": "545f282f-76d5-4497-a8ce-31d3ac768261",
   "metadata": {},
   "outputs": [
    {
     "data": {
      "text/plain": [
       "6×6 Matrix{Int64}:\n",
       " 0  0  0  0  0  0\n",
       " 0  0  0  0  0  0\n",
       " 0  0  0  0  0  0\n",
       " 0  0  0  0  0  0\n",
       " 0  0  0  0  0  0\n",
       " 0  0  0  0  0  0"
      ]
     },
     "execution_count": 14,
     "metadata": {},
     "output_type": "execute_result"
    }
   ],
   "source": [
    "z = zeros(Int64, 6, 6)"
   ]
  },
  {
   "cell_type": "code",
   "execution_count": 15,
   "id": "cec777ac-73f2-46c2-ae9a-ec2579563503",
   "metadata": {},
   "outputs": [
    {
     "data": {
      "text/plain": [
       "6×6 Matrix{Int64}:\n",
       " 1  1  1  1  1  1\n",
       " 1  1  1  1  1  1\n",
       " 1  1  1  1  1  1\n",
       " 1  1  1  1  1  1\n",
       " 1  1  1  1  1  1\n",
       " 1  1  1  1  1  1"
      ]
     },
     "execution_count": 15,
     "metadata": {},
     "output_type": "execute_result"
    }
   ],
   "source": [
    "E = ones(Int64, 6, 6)"
   ]
  },
  {
   "cell_type": "code",
   "execution_count": 16,
   "id": "3b760da6-1546-4f09-8fd5-d1d26107de04",
   "metadata": {},
   "outputs": [
    {
     "data": {
      "text/plain": [
       "6×6 Matrix{Int64}:\n",
       " 0  1  0  0  0  0\n",
       " 1  0  1  0  0  0\n",
       " 0  1  0  1  0  0\n",
       " 0  0  1  0  1  0\n",
       " 0  0  0  1  0  1\n",
       " 0  0  0  0  1  0"
      ]
     },
     "execution_count": 16,
     "metadata": {},
     "output_type": "execute_result"
    }
   ],
   "source": [
    "z1 = zeros(Int64, 6, 6)\n",
    "for i in 1:1:6\n",
    "    if i != 1 \n",
    "        z1[i, i - 1] = E[i, i - 1]\n",
    "    end\n",
    "    if i != 6\n",
    "        z1[i, i + 1] = E[i, i + 1]\n",
    "    end\n",
    "end\n",
    "z1"
   ]
  },
  {
   "cell_type": "code",
   "execution_count": null,
   "id": "a24bf418",
   "metadata": {},
   "outputs": [
    {
     "data": {
      "text/plain": [
       "6×6 Array{Int64,2}:\n",
       " 0  1  0  0  0  0\n",
       " 1  0  1  0  0  0\n",
       " 0  1  0  1  0  0\n",
       " 0  0  1  0  1  0\n",
       " 0  0  0  1  0  1\n",
       " 0  0  0  0  1  0"
      ]
     },
     "metadata": {},
     "output_type": "display_data"
    }
   ],
   "source": [
    "z1 = zeros(Int64, 6, 6)\n",
    "for i in 1:1:6\n",
    "    if i != 1 \n",
    "        z1[i, i - 1] = E[i, i - 1]\n",
    "    end\n",
    "    if i != 6\n",
    "        z1[i, i + 1] = E[i, i + 1]\n",
    "    end\n",
    "end\n",
    "z1"
   ]
  },
  {
   "cell_type": "code",
   "execution_count": null,
   "id": "bd10c2a4",
   "metadata": {},
   "outputs": [
    {
     "data": {
      "text/plain": [
       "6×6 Array{Int64,2}:\n",
       " 1  0  1  0  0  0\n",
       " 0  1  0  1  0  0\n",
       " 1  0  1  0  1  0\n",
       " 0  1  0  1  0  1\n",
       " 0  0  1  0  1  0\n",
       " 0  0  0  1  0  1"
      ]
     },
     "metadata": {},
     "output_type": "display_data"
    }
   ],
   "source": [
    "z2 = zeros(Int64, 6, 6)\n",
    "for i in 1:1:6\n",
    "    z2[i,i] = 1\n",
    "    if(i+2 <= 6) z2[i,i + 2] = E[i, i + 2] end\n",
    "    if(i-2 >= 1) z2[i, i - 2] = E[i, i - 2] end\n",
    "end\n",
    "z2"
   ]
  },
  {
   "cell_type": "code",
   "execution_count": null,
   "id": "c382dca4",
   "metadata": {},
   "outputs": [
    {
     "data": {
      "text/plain": [
       "6×6 Array{Int64,2}:\n",
       " 0  0  0  1  0  1\n",
       " 0  0  1  0  1  0\n",
       " 0  1  0  1  0  1\n",
       " 1  0  1  0  1  0\n",
       " 0  1  0  1  0  0\n",
       " 1  0  1  0  0  0"
      ]
     },
     "metadata": {},
     "output_type": "display_data"
    }
   ],
   "source": [
    "z3 = zeros(Int64, 6, 6)\n",
    "for i in 1:1:6\n",
    "    z3[i,7-i] = 1\n",
    "    if((7-i+2) <= 6) z3[i,9 - i] = E[i,9 - i] end\n",
    "    if((7-i-2) >= 1) z3[i, 5 - i] = E[i, 5 - i] end\n",
    "end\n",
    "z3"
   ]
  },
  {
   "cell_type": "code",
   "execution_count": null,
   "id": "0ae918da",
   "metadata": {},
   "outputs": [
    {
     "data": {
      "text/plain": [
       "6×6 Array{Int64,2}:\n",
       " 1  0  1  0  1  0\n",
       " 0  1  0  1  0  1\n",
       " 1  0  1  0  1  0\n",
       " 0  1  0  1  0  1\n",
       " 1  0  1  0  1  0\n",
       " 0  1  0  1  0  1"
      ]
     },
     "metadata": {},
     "output_type": "display_data"
    }
   ],
   "source": [
    "z4 = zeros(Int64, 6, 6)\n",
    "for i in 1:1:6\n",
    "    z4[i,i] = 1\n",
    "    if(i+2 <= 6) z4[i, i + 2] = E[i, i + 2] end\n",
    "    if(i-2 >= 1) z4[i, i - 2] = E[i, i - 2] end\n",
    "    if(i+4 <= 6) z4[i, i + 4] = E[i, i + 4] end\n",
    "    if(i-4 >= 1) z4[i, i - 4] = E[i, i - 4] end\n",
    "end\n",
    "z4"
   ]
  },
  {
   "cell_type": "markdown",
   "id": "21ed792b",
   "metadata": {},
   "source": [
    "\n",
    "8. Напишите свою функцию, аналогичную функции outer() языка R. Функция должна иметь следующий интерфейс: outer(x,y,operation).\n"
   ]
  },
  {
   "cell_type": "code",
   "execution_count": null,
   "id": "d30084fc",
   "metadata": {},
   "outputs": [
    {
     "data": {
      "text/plain": [
       "outer (generic function with 1 method)"
      ]
     },
     "metadata": {},
     "output_type": "display_data"
    }
   ],
   "source": [
    "function outer(x, y, operation)\n",
    "    if (ndims(x) == 1) x = reshape(x, (size(x, 1), size(x, 2))) end\n",
    "    if (ndims(y) == 1) y = reshape(y, (size(y, 1), size(y, 2))) end\n",
    "    c = zeros(size(x)[1], size(y)[2])\n",
    "    for i in 1:size(x)[1], j in 1:size(y)[2], k in 1:size(x)[2]\n",
    "        c[i, j] += operation(x[i, k], y[k, j])\n",
    "    end\n",
    "    return c\n",
    "end"
   ]
  },
  {
   "cell_type": "code",
   "execution_count": null,
   "id": "2f98b1db",
   "metadata": {},
   "outputs": [
    {
     "data": {
      "text/plain": [
       "3×3 Array{Int64,2}:\n",
       "  1   1   3\n",
       "  5   2   6\n",
       " -2  -1  -3"
      ]
     },
     "metadata": {},
     "output_type": "display_data"
    }
   ],
   "source": [
    "# проверим на данной матрице работу функции\n",
    "X = [[1 1 3]; [5 2 6]; [-2 -1 -3]]"
   ]
  },
  {
   "cell_type": "code",
   "execution_count": null,
   "id": "7a3e2fcd",
   "metadata": {},
   "outputs": [
    {
     "data": {
      "text/plain": [
       "3×3 Array{Int64,2}:\n",
       "  0   0   0\n",
       "  3   3   9\n",
       " -1  -1  -3"
      ]
     },
     "metadata": {},
     "output_type": "display_data"
    }
   ],
   "source": [
    "X * X"
   ]
  },
  {
   "cell_type": "code",
   "execution_count": null,
   "id": "d5f9f61f",
   "metadata": {},
   "outputs": [
    {
     "data": {
      "text/plain": [
       "3×3 Array{Float64,2}:\n",
       "  0.0   0.0   0.0\n",
       "  3.0   3.0   9.0\n",
       " -1.0  -1.0  -3.0"
      ]
     },
     "metadata": {},
     "output_type": "display_data"
    }
   ],
   "source": [
    "outer(X, X, *)"
   ]
  },
  {
   "cell_type": "code",
   "execution_count": null,
   "id": "6d274e8f",
   "metadata": {},
   "outputs": [
    {
     "data": {
      "text/plain": [
       "5×5 Array{Float64,2}:\n",
       " 0.0  1.0  2.0  3.0  4.0\n",
       " 1.0  2.0  3.0  4.0  5.0\n",
       " 2.0  3.0  4.0  5.0  6.0\n",
       " 3.0  4.0  5.0  6.0  7.0\n",
       " 4.0  5.0  6.0  7.0  8.0"
      ]
     },
     "metadata": {},
     "output_type": "display_data"
    }
   ],
   "source": [
    "# Построим первую матрицу\n",
    "A1 = outer(collect(0:4), collect(0:4)', +)"
   ]
  },
  {
   "cell_type": "code",
   "execution_count": null,
   "id": "27321987",
   "metadata": {},
   "outputs": [
    {
     "data": {
      "text/plain": [
       "5×5 Array{Float64,2}:\n",
       " 0.0   0.0   0.0    0.0     0.0\n",
       " 1.0   1.0   1.0    1.0     1.0\n",
       " 2.0   4.0   8.0   16.0    32.0\n",
       " 3.0   9.0  27.0   81.0   243.0\n",
       " 4.0  16.0  64.0  256.0  1024.0"
      ]
     },
     "metadata": {},
     "output_type": "display_data"
    }
   ],
   "source": [
    "# построим вторую матрицу\n",
    "A2 = outer(collect(0:4), collect(1:5)', ^)"
   ]
  },
  {
   "cell_type": "code",
   "execution_count": null,
   "id": "d4622407",
   "metadata": {},
   "outputs": [
    {
     "data": {
      "text/plain": [
       "5×5 Array{Float64,2}:\n",
       " 0.0  1.0  2.0  3.0  4.0\n",
       " 1.0  2.0  3.0  4.0  0.0\n",
       " 2.0  3.0  4.0  0.0  1.0\n",
       " 3.0  4.0  0.0  1.0  2.0\n",
       " 4.0  0.0  1.0  2.0  3.0"
      ]
     },
     "metadata": {},
     "output_type": "display_data"
    }
   ],
   "source": [
    "# построим третью матрицу\n",
    "# возьмем остаток от деления на 5\n",
    "A3 = outer(collect(0:4), collect(0:4)', +).%5"
   ]
  },
  {
   "cell_type": "code",
   "execution_count": null,
   "id": "3c6c54a1",
   "metadata": {},
   "outputs": [
    {
     "data": {
      "text/plain": [
       "10×10 Array{Float64,2}:\n",
       " 0.0  1.0  2.0  3.0  4.0  5.0  6.0  7.0  8.0  9.0\n",
       " 1.0  2.0  3.0  4.0  5.0  6.0  7.0  8.0  9.0  0.0\n",
       " 2.0  3.0  4.0  5.0  6.0  7.0  8.0  9.0  0.0  1.0\n",
       " 3.0  4.0  5.0  6.0  7.0  8.0  9.0  0.0  1.0  2.0\n",
       " 4.0  5.0  6.0  7.0  8.0  9.0  0.0  1.0  2.0  3.0\n",
       " 5.0  6.0  7.0  8.0  9.0  0.0  1.0  2.0  3.0  4.0\n",
       " 6.0  7.0  8.0  9.0  0.0  1.0  2.0  3.0  4.0  5.0\n",
       " 7.0  8.0  9.0  0.0  1.0  2.0  3.0  4.0  5.0  6.0\n",
       " 8.0  9.0  0.0  1.0  2.0  3.0  4.0  5.0  6.0  7.0\n",
       " 9.0  0.0  1.0  2.0  3.0  4.0  5.0  6.0  7.0  8.0"
      ]
     },
     "metadata": {},
     "output_type": "display_data"
    }
   ],
   "source": [
    "# построим четвертую матрицу\n",
    "# возьмем остаток от деления на 10\n",
    "A4 = outer(collect(0:9), collect(0: 9)', +).%10"
   ]
  },
  {
   "cell_type": "code",
   "execution_count": null,
   "id": "38820504",
   "metadata": {},
   "outputs": [
    {
     "data": {
      "text/plain": [
       "9×9 Array{Float64,2}:\n",
       " 0.0  8.0  7.0  6.0  5.0  4.0  3.0  2.0  1.0\n",
       " 1.0  0.0  8.0  7.0  6.0  5.0  4.0  3.0  2.0\n",
       " 2.0  1.0  0.0  8.0  7.0  6.0  5.0  4.0  3.0\n",
       " 3.0  2.0  1.0  0.0  8.0  7.0  6.0  5.0  4.0\n",
       " 4.0  3.0  2.0  1.0  0.0  8.0  7.0  6.0  5.0\n",
       " 5.0  4.0  3.0  2.0  1.0  0.0  8.0  7.0  6.0\n",
       " 6.0  5.0  4.0  3.0  2.0  1.0  0.0  8.0  7.0\n",
       " 7.0  6.0  5.0  4.0  3.0  2.0  1.0  0.0  8.0\n",
       " 8.0  7.0  6.0  5.0  4.0  3.0  2.0  1.0  0.0"
      ]
     },
     "metadata": {},
     "output_type": "display_data"
    }
   ],
   "source": [
    "# построим пятую матрицу\n",
    "# возьмем остаток от деления на 9\n",
    "A5 = outer(collect(0:8), collect(-9:-1)', -).%9"
   ]
  },
  {
   "cell_type": "markdown",
   "id": "7c1bc436",
   "metadata": {},
   "source": [
    "\n",
    "9. Решите следующую систему линейных уравнений с 5 неизвестными.\n"
   ]
  },
  {
   "cell_type": "code",
   "execution_count": null,
   "id": "cc039dac",
   "metadata": {},
   "outputs": [
    {
     "name": "stdout",
     "output_type": "stream",
     "text": [
      "Int32[1 2 3 4 5; 2 1 2 3 4; 3 2 1 2 3; 4 3 2 1 2; 5 4 3 2 1]\n"
     ]
    },
    {
     "data": {
      "text/plain": [
       "5-element Array{Int64,1}:\n",
       "  7\n",
       " -1\n",
       " -3\n",
       "  5\n",
       " 17"
      ]
     },
     "metadata": {},
     "output_type": "display_data"
    }
   ],
   "source": [
    "# зададим коэффициенты из системы уравнений\n",
    "array_system = Array{Int64, 2}(undef, 5, 5)\n",
    "m = 5\n",
    "n = 5\n",
    "\n",
    "for i in 1:1:m\n",
    "    for j in 1:1:n\n",
    "        array_system[i, j] = 1 + abs(i - j)\n",
    "    end\n",
    "end\n",
    "println(round.(Int32, array_system))\n",
    "\n",
    "\n",
    "# обозначим ответы\n",
    "answers = [7; -1; -3; 5; 17]"
   ]
  },
  {
   "cell_type": "code",
   "execution_count": null,
   "id": "d816cb25",
   "metadata": {},
   "outputs": [
    {
     "data": {
      "text/plain": [
       "5-element Array{Int64,1}:\n",
       " -2\n",
       "  3\n",
       "  5\n",
       "  2\n",
       " -4"
      ]
     },
     "metadata": {},
     "output_type": "display_data"
    }
   ],
   "source": [
    "# с помощью обратной матрицы получим решение данной матрицы\n",
    "array_system_inv = inv(array_system)\n",
    "round.(Int, array_system_inv)\n",
    "x_n = round.(Int, array_system_inv * answers)"
   ]
  },
  {
   "cell_type": "markdown",
   "id": "c313a2e7",
   "metadata": {},
   "source": [
    "\n",
    "    \n",
    "10. Создайте матрицу 𝑀 размерности 6 × 10, элементами которой являются целые числа, выбранные случайным образом с повторениями из совокупности 1, 2, … , 10.\n",
    "    \n"
   ]
  },
  {
   "cell_type": "code",
   "execution_count": null,
   "id": "835b6f6b",
   "metadata": {},
   "outputs": [
    {
     "data": {
      "text/plain": [
       "6×10 Array{Int64,2}:\n",
       "  6  10  1   5   8   6   4  8   6   6\n",
       "  8   8  7   2   9  10   5  3   7   4\n",
       " 10   5  5   8   4   5  10  6   9   2\n",
       "  3   1  9   6  10   6  10  1   6   9\n",
       "  5   4  6   7   4   9   8  1   6   7\n",
       "  6   7  5  10   8   7  10  4  10  10"
      ]
     },
     "metadata": {},
     "output_type": "display_data"
    }
   ],
   "source": [
    "M = rand(1:10, 6, 10)"
   ]
  },
  {
   "cell_type": "markdown",
   "id": "7a59724e",
   "metadata": {},
   "source": [
    "- Найдите число элементов в каждой строке матрицы 𝑀, которые больше числа 𝑁 (например, 𝑁 = 4). "
   ]
  },
  {
   "cell_type": "code",
   "execution_count": null,
   "id": "5ddf0968",
   "metadata": {},
   "outputs": [
    {
     "name": "stdout",
     "output_type": "stream",
     "text": [
      "Количество элементов больше 6 в строке = 1 равно 3\n",
      "Количество элементов больше 6 в строке = 2 равно 6\n",
      "Количество элементов больше 6 в строке = 3 равно 4\n",
      "Количество элементов больше 6 в строке = 4 равно 4\n",
      "Количество элементов больше 6 в строке = 5 равно 4\n",
      "Количество элементов больше 6 в строке = 6 равно 7\n"
     ]
    }
   ],
   "source": [
    "N = 6\n",
    "for i in 1:1:6\n",
    "    count = 0\n",
    "    for j in 1:1:10\n",
    "        if M[i, j] > N\n",
    "            count += 1\n",
    "        end\n",
    "    end\n",
    "    println(\"Количество элементов больше \", N, \" в строке = \", i, \" равно \", count)\n",
    "end"
   ]
  },
  {
   "cell_type": "markdown",
   "id": "2d80a066",
   "metadata": {},
   "source": [
    "- Определите, в каких строках матрицы 𝑀 число 𝑀 (например, 𝑀 = 7) встречается ровно 2 раза?"
   ]
  },
  {
   "cell_type": "code",
   "execution_count": null,
   "id": "eeb5f09a",
   "metadata": {},
   "outputs": [
    {
     "name": "stdout",
     "output_type": "stream",
     "text": [
      "Число 7 встречается в строке 2 ровно 2 раза\n",
      "Число 7 встречается в строке 5 ровно 2 раза\n",
      "Число 7 встречается в строке 6 ровно 2 раза\n"
     ]
    }
   ],
   "source": [
    "M_ = 7\n",
    "\n",
    "for i in 1:1:6\n",
    "    count = 0\n",
    "    for j in 1:1:10\n",
    "        if M[i, j] == M_\n",
    "            count += 1\n",
    "        end\n",
    "    end\n",
    "    if count == 2\n",
    "        println(\"Число \", M_, \" встречается в строке \", i, \" ровно 2 раза\")\n",
    "    end\n",
    "end"
   ]
  },
  {
   "cell_type": "markdown",
   "id": "d7963d79",
   "metadata": {},
   "source": [
    "- Определите все пары столбцов матрицы 𝑀, сумма элементов которых больше 𝐾 (например, 𝐾 = 75)."
   ]
  },
  {
   "cell_type": "code",
   "execution_count": null,
   "id": "1f6d8d56",
   "metadata": {},
   "outputs": [
    {
     "data": {
      "text/plain": [
       "sum_75 (generic function with 1 method)"
      ]
     },
     "metadata": {},
     "output_type": "display_data"
    }
   ],
   "source": [
    "function sum_75(matrix, K)\n",
    "    matrix_new = rand(10)\n",
    "    for i in 1:1:10\n",
    "        sum = 0 \n",
    "        for j in 1:1:6\n",
    "            sum += matrix[j, i]\n",
    "        end\n",
    "        matrix_new[i] = sum\n",
    "    end\n",
    "    # теперь просуммируем все значения matrix_new попарно\n",
    "    for i in 1:1:10\n",
    "        for j in i+1:1:10\n",
    "            sum = matrix_new[i] + matrix_new[j]\n",
    "            if sum > K\n",
    "                println(\"Столбцы - \", i, \" и \", j)\n",
    "            end\n",
    "        end\n",
    "    end\n",
    "end"
   ]
  },
  {
   "cell_type": "code",
   "execution_count": null,
   "id": "3a82cefe",
   "metadata": {},
   "outputs": [
    {
     "name": "stdout",
     "output_type": "stream",
     "text": [
      "Столбцы - 1 и 4\n",
      "Столбцы - 1 и 5\n",
      "Столбцы - 1 и 6\n",
      "Столбцы - 1 и 7\n",
      "Столбцы - 1 и 9\n",
      "Столбцы - 1 и 10\n",
      "Столбцы - 2 и 5\n",
      "Столбцы - 2 и 6\n",
      "Столбцы - 2 и 7\n",
      "Столбцы - 2 и 9\n",
      "Столбцы - 3 и 5\n",
      "Столбцы - 3 и 6\n",
      "Столбцы - 3 и 7\n",
      "Столбцы - 3 и 9\n",
      "Столбцы - 4 и 5\n",
      "Столбцы - 4 и 6\n",
      "Столбцы - 4 и 7\n",
      "Столбцы - 4 и 9\n",
      "Столбцы - 4 и 10\n",
      "Столбцы - 5 и 6\n",
      "Столбцы - 5 и 7\n",
      "Столбцы - 5 и 9\n",
      "Столбцы - 5 и 10\n",
      "Столбцы - 6 и 7\n",
      "Столбцы - 6 и 9\n",
      "Столбцы - 6 и 10\n",
      "Столбцы - 7 и 9\n",
      "Столбцы - 7 и 10\n",
      "Столбцы - 9 и 10\n"
     ]
    }
   ],
   "source": [
    "sum_75(M, 75)"
   ]
  },
  {
   "cell_type": "markdown",
   "id": "77350efa",
   "metadata": {},
   "source": [
    "\n",
    "11. Вычислите:  \n",
    "    \n",
    "$\\sum_{i=1}^{20}\\sum_{j=1}^5\\frac{i^{4}}{3+j}$\n",
    "    \n",
    "$\\sum_{i=1}^{20}\\sum_{j=1}^5\\frac{i^{4}}{3+ij}$\n"
   ]
  },
  {
   "cell_type": "code",
   "execution_count": null,
   "id": "0d746570",
   "metadata": {},
   "outputs": [
    {
     "name": "stdout",
     "output_type": "stream",
     "text": [
      "639215.2833333334\n"
     ]
    }
   ],
   "source": [
    "first_sum = 0\n",
    "for i in 1:1:20\n",
    "    for j in 1:1:5\n",
    "        first_sum += (i^4)/(3+j)\n",
    "    end\n",
    "end\n",
    "println(first_sum)"
   ]
  },
  {
   "cell_type": "code",
   "execution_count": null,
   "id": "bc974be9",
   "metadata": {},
   "outputs": [
    {
     "name": "stdout",
     "output_type": "stream",
     "text": [
      "89912.02146097136\n"
     ]
    }
   ],
   "source": [
    "second_sum = 0\n",
    "for i in 1:1:20\n",
    "    for j in 1:1:5\n",
    "        second_sum += (i^4)/(3+i*j)\n",
    "    end\n",
    "end\n",
    "println(second_sum)"
   ]
  }
 ],
 "metadata": {
  "kernelspec": {
   "display_name": "Julia 1.11.1",
   "language": "julia",
   "name": "julia-1.11"
  },
  "language_info": {
   "file_extension": ".jl",
   "mimetype": "application/julia",
   "name": "julia",
   "version": "1.11.1"
  }
 },
 "nbformat": 4,
 "nbformat_minor": 5
}
